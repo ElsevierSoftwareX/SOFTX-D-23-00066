{
 "cells": [
  {
   "cell_type": "code",
   "execution_count": 1,
   "metadata": {},
   "outputs": [],
   "source": [
    "\n",
    "import numpy as np \n",
    "import pandas as pd \n",
    "import missingno as msno\n",
    "import matplotlib.pyplot as plt \n",
    "from sklearn.impute import SimpleImputer \n",
    "from sklearn.compose import ColumnTransformer \n",
    "from yellowbrick.classifier import ConfusionMatrix, ClassBalance \n",
    "from sklearn.dummy import DummyClassifier \n",
    "from sklearn.model_selection import train_test_split \n",
    "from sklearn.preprocessing import StandardScaler , OneHotEncoder\n",
    "from copy import deepcopy\n",
    "from sklearn.svm import SVC \n",
    "from sklearn.model_selection import (validation_curve, RandomizedSearchCV, \n",
    " learning_curve, GridSearchCV , cross_val_score)\n",
    "from sklearn.model_selection import KFold, StratifiedKFold , RepeatedStratifiedKFold\n",
    "from seaborn import boxplot \n",
    "\n",
    "\n",
    "#from yellowbrick.classifer import ConfusionMatrix \n",
    "import seaborn as sns \n",
    "sns.set()\n",
    "import warnings \n",
    "warnings.filterwarnings('ignore') \n"
   ]
  },
  {
   "cell_type": "code",
   "execution_count": 2,
   "metadata": {},
   "outputs": [],
   "source": [
    "#!pip install spicy"
   ]
  },
  {
   "cell_type": "code",
   "execution_count": 3,
   "metadata": {},
   "outputs": [
    {
     "data": {
      "text/html": [
       "<div>\n",
       "<style scoped>\n",
       "    .dataframe tbody tr th:only-of-type {\n",
       "        vertical-align: middle;\n",
       "    }\n",
       "\n",
       "    .dataframe tbody tr th {\n",
       "        vertical-align: top;\n",
       "    }\n",
       "\n",
       "    .dataframe thead th {\n",
       "        text-align: right;\n",
       "    }\n",
       "</style>\n",
       "<table border=\"1\" class=\"dataframe\">\n",
       "  <thead>\n",
       "    <tr style=\"text-align: right;\">\n",
       "      <th></th>\n",
       "      <th>num</th>\n",
       "      <th>name</th>\n",
       "      <th>east</th>\n",
       "      <th>north</th>\n",
       "      <th>power</th>\n",
       "      <th>magnitude</th>\n",
       "      <th>shape</th>\n",
       "      <th>type</th>\n",
       "      <th>sfi</th>\n",
       "      <th>ohmS</th>\n",
       "      <th>lwi</th>\n",
       "      <th>geol</th>\n",
       "      <th>flow</th>\n",
       "    </tr>\n",
       "  </thead>\n",
       "  <tbody>\n",
       "    <tr>\n",
       "      <th>0</th>\n",
       "      <td>1</td>\n",
       "      <td>b1</td>\n",
       "      <td>790496</td>\n",
       "      <td>1175071.0</td>\n",
       "      <td>110</td>\n",
       "      <td>136</td>\n",
       "      <td>W</td>\n",
       "      <td>CP</td>\n",
       "      <td>0.388909</td>\n",
       "      <td>1666.165142</td>\n",
       "      <td>32.023585</td>\n",
       "      <td>VOLCANO-SEDIM. SCHISTS</td>\n",
       "      <td>2.5</td>\n",
       "    </tr>\n",
       "    <tr>\n",
       "      <th>1</th>\n",
       "      <td>2</td>\n",
       "      <td>b2</td>\n",
       "      <td>791227</td>\n",
       "      <td>1159566.0</td>\n",
       "      <td>70</td>\n",
       "      <td>142</td>\n",
       "      <td>V</td>\n",
       "      <td>EC</td>\n",
       "      <td>1.340127</td>\n",
       "      <td>1135.551531</td>\n",
       "      <td>21.406531</td>\n",
       "      <td>GRANITES</td>\n",
       "      <td>0.8</td>\n",
       "    </tr>\n",
       "    <tr>\n",
       "      <th>2</th>\n",
       "      <td>3</td>\n",
       "      <td>b3</td>\n",
       "      <td>774610</td>\n",
       "      <td>1136762.0</td>\n",
       "      <td>80</td>\n",
       "      <td>87</td>\n",
       "      <td>V</td>\n",
       "      <td>EC</td>\n",
       "      <td>0.446594</td>\n",
       "      <td>767.562500</td>\n",
       "      <td>0.000000</td>\n",
       "      <td>GRANITES</td>\n",
       "      <td>1.0</td>\n",
       "    </tr>\n",
       "    <tr>\n",
       "      <th>3</th>\n",
       "      <td>4</td>\n",
       "      <td>b4</td>\n",
       "      <td>776778</td>\n",
       "      <td>1128130.0</td>\n",
       "      <td>60</td>\n",
       "      <td>116</td>\n",
       "      <td>W</td>\n",
       "      <td>NC</td>\n",
       "      <td>0.763676</td>\n",
       "      <td>987.943553</td>\n",
       "      <td>28.709623</td>\n",
       "      <td>GRANITES</td>\n",
       "      <td>1.2</td>\n",
       "    </tr>\n",
       "    <tr>\n",
       "      <th>4</th>\n",
       "      <td>5</td>\n",
       "      <td>b5</td>\n",
       "      <td>762550</td>\n",
       "      <td>1144126.0</td>\n",
       "      <td>70</td>\n",
       "      <td>111</td>\n",
       "      <td>W</td>\n",
       "      <td>EC</td>\n",
       "      <td>0.068501</td>\n",
       "      <td>769.095833</td>\n",
       "      <td>2.300000</td>\n",
       "      <td>GEOSYN. GRANITES</td>\n",
       "      <td>1.5</td>\n",
       "    </tr>\n",
       "  </tbody>\n",
       "</table>\n",
       "</div>"
      ],
      "text/plain": [
       "   num name    east      north  power  magnitude shape type       sfi  \\\n",
       "0    1   b1  790496  1175071.0    110        136     W   CP  0.388909   \n",
       "1    2   b2  791227  1159566.0     70        142     V   EC  1.340127   \n",
       "2    3   b3  774610  1136762.0     80         87     V   EC  0.446594   \n",
       "3    4   b4  776778  1128130.0     60        116     W   NC  0.763676   \n",
       "4    5   b5  762550  1144126.0     70        111     W   EC  0.068501   \n",
       "\n",
       "          ohmS        lwi                    geol  flow  \n",
       "0  1666.165142  32.023585  VOLCANO-SEDIM. SCHISTS   2.5  \n",
       "1  1135.551531  21.406531                GRANITES   0.8  \n",
       "2   767.562500   0.000000                GRANITES   1.0  \n",
       "3   987.943553  28.709623                GRANITES   1.2  \n",
       "4   769.095833   2.300000        GEOSYN. GRANITES   1.5  "
      ]
     },
     "execution_count": 3,
     "metadata": {},
     "output_type": "execute_result"
    }
   ],
   "source": [
    "origin_df = pd.read_csv(\"main.bagciv.data_true.csv\")\n",
    "origin_df.head(5)"
   ]
  },
  {
   "cell_type": "code",
   "execution_count": 4,
   "metadata": {},
   "outputs": [],
   "source": [
    "#  drop the features num , east, north, lwi and  and set index to name \n",
    "df0=origin_df.drop ([\"num\",\n",
    "                     \"east\",\n",
    "                     \"north\",\n",
    "                     \"lwi\"\n",
    "                     ], axis =1).set_index(\"name\")\n"
   ]
  },
  {
   "cell_type": "code",
   "execution_count": 5,
   "metadata": {},
   "outputs": [],
   "source": [
    "colums_order =[\"shape\", \"type\", \"geol\", \"power\", \"magnitude\", \"sfi\", \"ohmS\", \"flow\"]\n",
    "df_order= df0[colums_order]\n"
   ]
  },
  {
   "cell_type": "code",
   "execution_count": 6,
   "metadata": {},
   "outputs": [],
   "source": [
    "# counter the categorical data \n",
    "cat_columns =[\"shape\", \"type\", \"geol\"]\n",
    "dfs = df_order[\"shape\"].value_counts (normalize=True)\n",
    "dft =df_order[\"type\"].value_counts (normalize=True)\n",
    "dfg = df_order[\"geol\"].value_counts (normalize=True)\n",
    "\n",
    "#for df in [dfs, dft, dfg]: \n",
    "#    plt.bar (df.index, df)\n",
    "\n",
    "# j =0\n",
    "# for i in  range(len(dfs)): \n",
    "#     plt.bar (dfs.index[i], dfs.values[i]+ j, bottom = dfs.values[i]+ j)\n",
    "#     j = dfs.values[i] \n",
    "\n"
   ]
  },
  {
   "cell_type": "code",
   "execution_count": 7,
   "metadata": {},
   "outputs": [],
   "source": [
    "#Vectorisation of features shape, type, geol, and y \n",
    "\n",
    "def flowMapping (value): \n",
    "    if value == 0. : \n",
    "        return 0  #FR0\n",
    "    elif  0 < value <=1:\n",
    "        return 1 #FR1\n",
    "    elif 1 < value <=3:\n",
    "        return 2  # FR2\n",
    "    else : return 3  #FR3\n",
    "def binMapping (value): \n",
    "    return 0 if value <=1 else 1 \n",
    "\n",
    "geomap = {\"VOLCANO-SEDIM. SCHISTS\":1, \n",
    "          \"GRANITES\":3, \n",
    "          \"GEOSYN. GRANITES\":2, \n",
    "          \"GNEISS-MIGMATITES\":4\n",
    "          }\n",
    "mapshape ={\"W\":1, \n",
    "          \"U\":2, \n",
    "          \"V\":3, \n",
    "          \"H\":4, \n",
    "          \"K\":5, \n",
    "          \"C\":6, \n",
    "          \"M\":7}\n",
    "\n",
    "maptype ={\"EC\":1, \n",
    "          \"NC\":2, \n",
    "          \"CP\":3, \n",
    "          \"CB2P\":4\n",
    "}\n",
    "def geolMapping(value): \n",
    "    if value ==\"VOLCANO-SEDIM. SCHISTS\": \n",
    "        return \"VOLCS.\"\n",
    "    elif value ==\"GRANITES\": \n",
    "        return \"GRAN.\"\n",
    "    elif value ==\"GEOSYN. GRANITES\": \n",
    "        return \"GEOG.\"\n",
    "    elif value ==\"GNEISS-MIGMATITES\":\n",
    "        return \"MIGG.\"\n",
    "    \n",
    "# df_order.geol = df_order[\"geol\"].apply (geolMapping)\n",
    "df_order.flow=df_order[\"flow\"].apply (flowMapping)\n",
    "df_order.geol = df_order[\"geol\"].map(geomap)\n",
    "df_order[\"shape\"]=df_order[\"shape\"].map(mapshape)\n",
    "df_order.type= df_order.type.map(maptype)\n",
    "df_binary=df_order.copy()\n",
    "df_binary.flow = df_binary.flow.apply(binMapping)\n",
    "\n",
    "#df_order.describe()"
   ]
  },
  {
   "cell_type": "code",
   "execution_count": 8,
   "metadata": {},
   "outputs": [],
   "source": [
    "# separate two datasets , multiclassification and binary \n",
    "\n",
    "dfm = df_order.copy() # multiclassification \n",
    "dfb = df_binary.copy() # binary classification \n",
    "\n"
   ]
  },
  {
   "cell_type": "code",
   "execution_count": 9,
   "metadata": {},
   "outputs": [],
   "source": [
    "# targets \n",
    "y = dfm.flow \n",
    "yb = dfb.flow \n",
    "\n",
    "X = dfm.drop (columns= \"flow\") \n",
    "Xb = dfb.drop(columns=\"flow\")\n"
   ]
  },
  {
   "cell_type": "code",
   "execution_count": 10,
   "metadata": {},
   "outputs": [],
   "source": [
    "# imput the data \n",
    "imp_obj = SimpleImputer (strategy =\"median\")\n",
    "X_imp = imp_obj.fit_transform (X)\n",
    "X_imputed =pd.DataFrame (data=X_imp, columns= X.columns)"
   ]
  },
  {
   "cell_type": "code",
   "execution_count": 11,
   "metadata": {},
   "outputs": [
    {
     "data": {
      "text/plain": [
       "(431, 7)"
      ]
     },
     "execution_count": 11,
     "metadata": {},
     "output_type": "execute_result"
    }
   ],
   "source": [
    "# Scaled the numerical data \n",
    "num_columns =[\"power\", \"magnitude\", \"sfi\", \"ohmS\"]\n",
    "X_num_imputed= X_imputed[num_columns]\n",
    "scaler_obj = StandardScaler () \n",
    "X_num_scaled = scaler_obj. fit_transform(X_num_imputed)\n",
    "#X_cat_imputed= X_imputed[cat_columns]\n",
    "# concat the \n",
    "X = np.c_[dfm[cat_columns].values, X_num_scaled]\n",
    "X= pd.DataFrame (data=X, columns= dfm.drop(columns=\"flow\").columns)\n",
    "X.head(5)\n",
    "X_for_validation = X.copy ()\n",
    "\n",
    "X_for_validation.set_index(y.index)\n",
    "X.shape"
   ]
  },
  {
   "cell_type": "code",
   "execution_count": 12,
   "metadata": {},
   "outputs": [
    {
     "data": {
      "text/plain": [
       "(431, 14)"
      ]
     },
     "execution_count": 12,
     "metadata": {},
     "output_type": "execute_result"
    }
   ],
   "source": [
    "# One Hot encoded categorical features \n",
    "\n",
    "ohe_obj = OneHotEncoder(categories =\"auto\", drop=\"first\")\n",
    "c_transf = ColumnTransformer([ \n",
    "                              (\"ohe\",ohe_obj , [0, 1, 2] ), \n",
    "                              (\"nothing\", \"passthrough\", [3, 4, 5, 6])\n",
    "                              ])\n",
    "Xohe=c_transf.fit_transform(X).astype(float)\n",
    "Xohe.shape\n"
   ]
  },
  {
   "cell_type": "code",
   "execution_count": 13,
   "metadata": {},
   "outputs": [
    {
     "data": {
      "text/plain": [
       "(431, 14)"
      ]
     },
     "execution_count": 13,
     "metadata": {},
     "output_type": "execute_result"
    }
   ],
   "source": [
    "# RECAP\n",
    "X = Xohe.copy()\n",
    "X, y # Dataset for mutiple classification task \n",
    "X, yb #Dataset for binary classification task \n",
    "#check the fist row of data \n",
    "X.shape"
   ]
  },
  {
   "cell_type": "code",
   "execution_count": 14,
   "metadata": {},
   "outputs": [
    {
     "data": {
      "text/plain": [
       "(2    0.357309\n",
       " 1    0.354988\n",
       " 3    0.146172\n",
       " 0    0.141531\n",
       " Name: flow, dtype: float64,\n",
       " 1    0.50348\n",
       " 0    0.49652\n",
       " Name: flow, dtype: float64)"
      ]
     },
     "execution_count": 14,
     "metadata": {},
     "output_type": "execute_result"
    }
   ],
   "source": [
    "ycount = y.value_counts(normalize =True)\n",
    "ybcount =yb.value_counts(normalize =True)\n",
    "ycount , ybcount "
   ]
  },
  {
   "cell_type": "code",
   "execution_count": 15,
   "metadata": {},
   "outputs": [
    {
     "data": {
      "text/plain": [
       "((344, 14), (87, 14), (344,), (87,))"
      ]
     },
     "execution_count": 15,
     "metadata": {},
     "output_type": "execute_result"
    }
   ],
   "source": [
    "# stratified sampling \n",
    "# multiclassification \n",
    "\n",
    "_, _, y_trainno, y_testno=train_test_split (X, y , test_size = 0.2, random_state= 42)\n",
    "X_train, X_test , y_train, y_test = train_test_split (X, y , test_size = 0.2, random_state= 42, stratify = y)\n",
    "\n",
    "X_train.shape, X_test.shape , y_train.shape, y_test.shape"
   ]
  },
  {
   "cell_type": "code",
   "execution_count": 16,
   "metadata": {},
   "outputs": [],
   "source": [
    "# finction to plot class balances \n",
    "def plotClassBalances (y, labels, savefig): \n",
    "    fig , ax = plt.subplots(figsize=(6, 6))\n",
    "    cb_bin= ClassBalance (labels =labels)\n",
    "    cb_bin.fit(y)\n",
    "    cb_bin.poof()\n",
    "    fig.savefig(savefig, dpi =300)\n",
    "    "
   ]
  },
  {
   "cell_type": "code",
   "execution_count": 17,
   "metadata": {},
   "outputs": [
    {
     "data": {
      "text/plain": [
       "((344, 14), (87, 14), (344,), (87,))"
      ]
     },
     "execution_count": 17,
     "metadata": {},
     "output_type": "execute_result"
    }
   ],
   "source": [
    "#Binarry \n",
    "Xbtraino, Xb_testno, yb_trainno, yb_testno=train_test_split (X, yb , test_size = 0.2, random_state= 42)\n",
    "Xb_train, Xb_test , yb_train, yb_test = train_test_split (X, yb , test_size = 0.2, random_state= 42, stratify = yb)\n",
    "\n",
    "Xb_train.shape, Xb_test.shape , yb_train.shape, yb_test.shape"
   ]
  },
  {
   "cell_type": "code",
   "execution_count": 18,
   "metadata": {},
   "outputs": [
    {
     "data": {
      "text/plain": [
       "(431,)"
      ]
     },
     "execution_count": 18,
     "metadata": {},
     "output_type": "execute_result"
    }
   ],
   "source": [
    "#RECAP\n",
    "#multiclassification  Database \n",
    "X_train , y_train , X_test, y_test \n",
    "# binary classifier \n",
    "Xb_train, yb_train, Xb_test, yb_test \n",
    "yb.shape"
   ]
  },
  {
   "cell_type": "code",
   "execution_count": 19,
   "metadata": {},
   "outputs": [
    {
     "data": {
      "text/plain": [
       "0.5057471264367817"
      ]
     },
     "execution_count": 19,
     "metadata": {},
     "output_type": "execute_result"
    }
   ],
   "source": [
    "# TQUick test with dumy classifier  Baseline Model \n",
    "bm = DummyClassifier(random_state=42)\n",
    "bm.fit(X_train, y_train)\n",
    "bm.score (X_test, y_test) \n",
    "\n",
    "# dumy classifier with Binary \n",
    "bmb = DummyClassifier(random_state=42)\n",
    "bmb.fit(Xb_train, yb_train)\n",
    "bmb.score (Xb_test, yb_test) \n"
   ]
  },
  {
   "cell_type": "code",
   "execution_count": 20,
   "metadata": {},
   "outputs": [
    {
     "name": "stdout",
     "output_type": "stream",
     "text": [
      "(431, 7)\n"
     ]
    }
   ],
   "source": [
    "cv=4\n",
    "\n",
    "print(X_for_validation.shape)\n",
    "Xbtrainfv , Xbtestfv , ybtrainfv , ybtestfv = train_test_split (\n",
    "    X_for_validation.reset_index(drop =True), yb.reset_index (drop =True), test_size =0.2, random_state = 42)\n",
    "\n",
    "kf =KFold (n_splits=cv, random_state= 42, shuffle=True)   "
   ]
  },
  {
   "cell_type": "code",
   "execution_count": 21,
   "metadata": {},
   "outputs": [],
   "source": [
    "\n",
    "# print(Xtrainfv.set_index (ytrainfv.index))\n",
    "# print( ytrainfv.index )\n",
    "num_val_samples = len(Xbtrainfv)//cv \n",
    "train_data = Xbtrainfv.copy().values \n",
    "train_targets = ybtrainfv.copy().values \n",
    "\n",
    "def boxPlotFold (cv , trainset , traintarget, samples, savefig, plottrain=True, viz =True ):\n",
    "    for i in range (cv): \n",
    "        val_data = trainset [i * samples: (i+1) * samples]\n",
    "        val_targets = traintarget [i * samples: (i+1) * samples]\n",
    "        partial_train_data = np.concatenate(\n",
    "            [trainset[:i * samples ], \n",
    "            trainset[(i+1) * samples:]], \n",
    "            axis =0\n",
    "        )\n",
    "        \n",
    "        if viz:\n",
    "            fig, ax = plt.subplots (figsize =(8, 6))\n",
    "            \n",
    "            if plottrain:\n",
    "                boxplot( data =val_data )\n",
    "            if not plottrain:\n",
    "                boxplot( data =val_targets )\n",
    "            \n",
    "            if savefig is not None: \n",
    "                fig.savefig(savefig +f\"{i+1}.png\", dpi =300)"
   ]
  },
  {
   "cell_type": "code",
   "execution_count": 22,
   "metadata": {},
   "outputs": [],
   "source": [
    "#STRATIFIED Fold \n",
    "Xbtrainfv , Xbtestfv , ybtrainfv , ybtestfv = train_test_split (\n",
    "    X_for_validation.reset_index(drop =True), yb.reset_index (drop =True), test_size =0.2, random_state = 42, stratify = y)\n",
    "\n",
    "num_val_samples = len(Xbtrainfv)//cv \n",
    "train_data = Xbtrainfv.copy().values \n",
    "train_targets = ybtrainfv.copy().values \n",
    "\n",
    "boxPlotFold (cv=4 , trainset=train_data ,\n",
    "            traintarget = train_targets, \n",
    "            samples= num_val_samples, \n",
    "            savefig=\"images/StratifiedFromY\",\n",
    "            plottrain=False, \n",
    "            viz=False)"
   ]
  },
  {
   "cell_type": "code",
   "execution_count": 23,
   "metadata": {},
   "outputs": [],
   "source": [
    "# stratified kfold index \n",
    "# mutilcalss\n",
    "cv_index= StratifiedKFold(n_splits =4)\n",
    "cv2_index = KFold(n_splits=4, random_state =42 , shuffle =True)"
   ]
  },
  {
   "cell_type": "markdown",
   "metadata": {},
   "source": [
    "## Binary Classification"
   ]
  },
  {
   "cell_type": "code",
   "execution_count": 24,
   "metadata": {},
   "outputs": [],
   "source": [
    "cv = list(cv_index.split(Xb_train, yb_train))\n",
    "cv2 = list(cv2_index.split(Xb_train, yb_train))"
   ]
  },
  {
   "cell_type": "code",
   "execution_count": 25,
   "metadata": {},
   "outputs": [
    {
     "data": {
      "text/plain": [
       "(array([0.5       , 0.5       , 0.5       , 0.76744186, 0.8372093 ,\n",
       "        0.81976744]),\n",
       " array([0.51190476, 0.51190476, 0.51190476, 0.51190476, 0.88636364,\n",
       "        0.90800866]))"
      ]
     },
     "execution_count": 25,
     "metadata": {},
     "output_type": "execute_result"
    },
    {
     "data": {
      "image/png": "[encoded data removed]",
      "text/plain": [
       "<Figure size 576x432 with 1 Axes>"
      ]
     },
     "metadata": {},
     "output_type": "display_data"
    }
   ],
   "source": [
    "svm0 = SVC()\n",
    "k_range_paramC = np.power(10 , np.arange(-4, 1.5, dtype =float))\n",
    "k1 = len(Xb_train)//4\n",
    "Xbsample = Xb_train [:k1, :]\n",
    "ybsample = yb_train[:k1]\n",
    "\n",
    "\n",
    "trainb_score1 , valb_score1 = validation_curve(svm0, Xbsample, ybsample, \n",
    "                                         param_name =\"C\", param_range=k_range_paramC,\n",
    "                                         cv=4)\n",
    "trainb_score , valb_score = validation_curve(svm0, Xb_train, yb_train, \n",
    "                                         param_name =\"C\", param_range=k_range_paramC,\n",
    "                                         cv=4)\n",
    "fig, ax = plt.subplots (figsize =(8, 6))\n",
    "ax.plot(k_range_paramC, np.mean(trainb_score, 1), color =\"blue\", label =\"train score\")\n",
    "ax.plot(k_range_paramC, np.mean(valb_score, 1), color =\"r\", label =\"validation score\")\n",
    "ax.plot(k_range_paramC, np.mean(trainb_score1, 1), color =\"blue\", label =\"train score Fold1\", alpha =0.3, linestyle =\"--\")\n",
    "ax.plot(k_range_paramC, np.mean(valb_score1, 1), color =\"r\", label =\"validation score Fold 1\", alpha =0.3, linestyle =\"--\")\n",
    "#ax.legend(loc=\"best\")\n",
    "ax.set_ylim(0, 1)\n",
    "ax.set_xlabel(\"C\")\n",
    "ax.set_ylabel(\"score\")\n",
    "\n",
    "\n",
    "# fig.savefig (\"images/valscoreFor1foldand4Fold.png\", dpi =300)\n",
    "\n",
    "np.median(valb_score, 1), np.median(valb_score1, 1)"
   ]
  },
  {
   "cell_type": "code",
   "execution_count": 26,
   "metadata": {},
   "outputs": [
    {
     "data": {
      "image/png": "[encoded data removed]",
      "text/plain": [
       "<Figure size 1152x432 with 3 Axes>"
      ]
     },
     "metadata": {},
     "output_type": "display_data"
    }
   ],
   "source": [
    "fig, ax = plt.subplots(1, 3, figsize =(16, 6))\n",
    "fig.subplots_adjust(left=0.0625, right = 0.85, wspace = 0.15)\n",
    "paramC_test =[0.5, 1, 1.5]\n",
    "for k, paramc in enumerate(paramC_test): \n",
    "    N, trainb_lc , valb_lc = learning_curve(SVC(C=paramc), Xb_train, yb_train, \n",
    "                                            train_sizes = np.linspace(0.1, 1, 50),\n",
    "                                            cv=cv)\n",
    "    ax[k].plot(N, np.mean(trainb_lc, 1), color =\"blue\", label =\"train score\")\n",
    "    ax[k].plot(N, np.mean(valb_lc, 1), color =\"r\", label =\"validation score\")\n",
    "    ax[k].hlines(np.mean([trainb_lc[-1], valb_lc[-1]]), N[0], N[-1], color=\"gray\", linestyle =\"--\")\n",
    "    ax[k].set_ylim(0.4, 1)\n",
    "    #ax[k].set_xlim (N[0], N[1])\n",
    "    ax[k].set_xlabel(\"training size\")\n",
    "    #ax[k].set_ylabel(\"score\")\n",
    "    ax[k].set_title('C = {0}'.format(paramc), size=14)\n",
    "    #ax[k].legend(loc=\"lower left\")\n",
    "    "
   ]
  },
  {
   "cell_type": "code",
   "execution_count": 27,
   "metadata": {},
   "outputs": [],
   "source": [
    "# Hyperparameters fine-tuning \n",
    "kws_bases2 = {\n",
    "    \"C\": np.power(10 , np.arange(-4, 4.5,0.5,  dtype =float)), \n",
    "    \"gamma\":np.power(10, np.arange(-7, 1.1,0.5,  dtype =float)), \n",
    "    \"tol\":np.power(10 , np.arange(-4, 1.5,0.5,  dtype =float)), \n",
    "    \"coef0\":np.arange(0, 8),\n",
    "    \"degree\":np.arange(1, 8),\n",
    "}\n",
    "# kws_bases = {\n",
    "#     \"C\": np.power(2 , np.arange(-5, 9,2,  dtype =float)), \n",
    "#     \"gamma\":np.power(2, np.arange(-9, 5,2,  dtype =float)), \n",
    "#     \"tol\":np.power(10 , np.arange(-3, 4, 1,  dtype =float)), \n",
    "#     \"coef0\":np.arange(0, 8),\n",
    "#     \"degree\":np.arange(1, 8),\n",
    "# }\n",
    "\n",
    "kws_bases = {\n",
    "    \"C\": np.power(2 , np.arange(-7, 11,2,  dtype =float)), \n",
    "    \"gamma\":np.power(2, np.arange(-11, 9,2,  dtype =float)), \n",
    "    \"tol\":np.power(10 , np.arange(-3, 4, 1,  dtype =float)), \n",
    "    \"coef0\":np.arange(0, 8),\n",
    "    \"degree\":np.arange(1, 8),\n",
    "}\n",
    "\n",
    "def generateParams (kernels , params_kws=None): \n",
    "    args =[]\n",
    "    for kernel in kernels : \n",
    "        params_kws['kernel'] = [kernel]\n",
    "        paramgk= deepcopy (params_kws.copy())\n",
    "        args.append(paramgk)\n",
    "        del params_kws['kernel']\n",
    "    \n",
    "    return args \n",
    "param_grids= generateParams(kernels =['poly', 'linear', 'sigmoid', 'rbf'],\n",
    "params_kws=kws_bases )\n"
   ]
  },
  {
   "cell_type": "code",
   "execution_count": 28,
   "metadata": {},
   "outputs": [],
   "source": [
    "def gridSearchSVM (clf, X, y, *,  scoring ='accuracy', param_grid =None,\n",
    "                    cv =None, nestedcv =True, func = GridSearchCV ): \n",
    "\n",
    "    gsobj = func (estimator =clf, \n",
    "                   param_grid=param_grid, \n",
    "                   scoring =scoring , \n",
    "                   cv =cv  , refit=True,\n",
    "                    n_jobs=-1)\n",
    "   \n",
    "    if nestedcv: \n",
    "        scores= cross_val_score(gsobj, X, y, scoring =scoring , cv =cv )\n",
    "        #print(f'{param_grid [\"kernel\"][0]}: CV accuracy: %3.f +/- %3.f' %(np.mean(scores), np.std(scores)) )\n",
    "        print(f'{clf.__class__.__name__}: CV accuracy: %3.f +/- %3.f' %(np.mean(scores), np.std(scores)) )\n",
    "        \n",
    "    gsobj = gsobj.fit(X, y)\n",
    "    return gsobj, scores if nestedcv else None"
   ]
  },
  {
   "cell_type": "code",
   "execution_count": 29,
   "metadata": {},
   "outputs": [],
   "source": [
    "# run all grid searches \n",
    "\n",
    "# gridObjs , gridScores ={}, {}\n",
    "# for param_grid , kernel in zip(param_grids, \n",
    "# ['poly', 'linear', 'sigmoid', 'rbf']): \n",
    "#     gs , scores= gridSearchSVM (SVC(), X=Xb_train, y=yb_train, \n",
    "#      param_grid= param_grid ,\n",
    "#      cv =cv )\n",
    "#     print(f\" {kernel.capitalize()} - best score:\", gs.best_score_ ) \n",
    "#     print(f\"{kernel.capitalize()} - best params:\", gs.best_params_)\n",
    "#     gridObjs[kernel] = gs \n",
    "#     gridScores [kernel]=scores \n"
   ]
  },
  {
   "cell_type": "code",
   "execution_count": 30,
   "metadata": {},
   "outputs": [],
   "source": [
    "try :\n",
    "    import joblib \n",
    "except: pass \n",
    "\n",
    "import pickle \n",
    "\n",
    "def savef (fn , data ): \n",
    "    try : joblib.dump(data, f'{fn}.pkl')\n",
    "    except : \n",
    "        filename +='.pkl'\n",
    "    with open(fn, 'wb') as wfile: \n",
    "        pickle.dump( data, wfile)\n",
    "\n",
    "# filename = '__svmbinarymodels'\n",
    "# data = (gridObjs, gridScores)\n",
    "# try : \n",
    "#         joblib.dump(data, f'{filename}.pkl')\n",
    "# except : \n",
    "#     # Now try to pickle data Serializing data \n",
    "#     filename +='.pkl'\n",
    "#     with open(filename, 'wb') as wfile: \n",
    "#         pickle.dump( data, wfile)\n",
    "\n",
    "gridObjs, gridScores = joblib.load('__svmbinarymodels.pkl')"
   ]
  },
  {
   "cell_type": "code",
   "execution_count": 31,
   "metadata": {},
   "outputs": [
    {
     "data": {
      "text/plain": [
       "35280"
      ]
     },
     "execution_count": 31,
     "metadata": {},
     "output_type": "execute_result"
    }
   ],
   "source": [
    "len(gridObjs['sigmoid'].cv_results_['params'])"
   ]
  },
  {
   "cell_type": "code",
   "execution_count": 32,
   "metadata": {},
   "outputs": [],
   "source": [
    "CV0=4\n",
    "SVMLinear = gridObjs['linear']\n",
    "SVMpoly = gridObjs['poly']\n",
    "SVMrbf = gridObjs['rbf']\n",
    "SVMsigmoid = gridObjs['sigmoid']\n",
    "\n",
    "cvres_poly = SVMpoly.cv_results_\n",
    "cvres_linear= SVMLinear.cv_results_\n",
    "cvres_rbf= SVMrbf.cv_results_\n",
    "cvres_sigmoid= SVMsigmoid .cv_results_\n",
    "\n",
    "\n",
    "SVMs = [SVMLinear, SVMpoly , SVMrbf, SVMsigmoid ] \n",
    "SVMsCV_res =[cvres_linear, cvres_poly, cvres_rbf, cvres_sigmoid]\n",
    "\n",
    "kernels =['Linear', 'Polynomial', 'RBF', 'Sigmoid']\n"
   ]
  },
  {
   "cell_type": "code",
   "execution_count": 33,
   "metadata": {},
   "outputs": [],
   "source": [
    "\n",
    "def getGlobalScores(cvres): \n",
    "    \"\"\" Take the global mean score  and std  test score\"\"\"\n",
    "    return cvres['mean_test_score'].mean() , cvres['std_test_score'].mean()\n",
    "\n",
    "def getBestForEachSplit(cvres, split=1): \n",
    "    if split ==0: split =1 \n",
    "    split_score = cvres[f'split{split-1}_test_score'] # get the split score \n",
    "    # take the max score of the split \n",
    "    max_sc = split_score.max() \n",
    "    ix_max = split_score.argmax()\n",
    "    mean_score= split_score.mean()\n",
    "    # get parm and mean score \n",
    "    bests ={'param': cvres['params'][ix_max], \n",
    "        'accuracy_score':cvres['mean_test_score'][ix_max], \n",
    "        'std_score':cvres['std_test_score'][ix_max],\n",
    "        f\"CV{split}_score\": max_sc , \n",
    "        f\"CV{split}_mean_score\": mean_score,\n",
    "        }\n",
    "\n",
    "    return bests \n"
   ]
  },
  {
   "cell_type": "code",
   "execution_count": 34,
   "metadata": {},
   "outputs": [
    {
     "name": "stdout",
     "output_type": "stream",
     "text": [
      "Linear :\n",
      "split =CV1:\n",
      "{'param': {'C': 0.5, 'coef0': 0, 'degree': 1, 'gamma': 0.00048828125, 'kernel': 'linear', 'tol': 0.001}, 'accuracy_score': 0.8313953488372093, 'std_score': 0.054848727511956984, 'CV1_score': 0.9186046511627907, 'CV1_mean_score': 0.7048726467331119}\n",
      "split =CV2:\n",
      "{'param': {'C': 0.5, 'coef0': 0, 'degree': 1, 'gamma': 0.00048828125, 'kernel': 'linear', 'tol': 0.001}, 'accuracy_score': 0.8313953488372093, 'std_score': 0.054848727511956984, 'CV1_score': 0.9186046511627907, 'CV1_mean_score': 0.7048726467331119}\n",
      "split =CV3:\n",
      "{'param': {'C': 0.5, 'coef0': 0, 'degree': 1, 'gamma': 0.00048828125, 'kernel': 'linear', 'tol': 1.0}, 'accuracy_score': 0.8459302325581396, 'std_score': 0.046055173016729234, 'CV2_score': 0.872093023255814, 'CV2_mean_score': 0.6814322628276117}\n",
      "split =CV4:\n",
      "{'param': {'C': 0.125, 'coef0': 0, 'degree': 1, 'gamma': 0.00048828125, 'kernel': 'linear', 'tol': 1.0}, 'accuracy_score': 0.805232558139535, 'std_score': 0.017197906346219802, 'CV3_score': 0.8023255813953488, 'CV3_mean_score': 0.659468438538206}\n",
      "Global split scores:\n",
      "mean= 0.6783407161314137 std= 0.02018872855533776\n",
      "BestParams:  {'C': 0.5, 'coef0': 0, 'degree': 1, 'gamma': 0.00048828125, 'kernel': 'linear', 'tol': 1.0}\n",
      "Best scores: 0.8459302325581396\n",
      "\n",
      "Polynomial :\n",
      "split =CV1:\n",
      "{'param': {'C': 0.03125, 'coef0': 4, 'degree': 3, 'gamma': 2.0, 'kernel': 'poly', 'tol': 1.0}, 'accuracy_score': 0.8488372093023255, 'std_score': 0.06421721521620502, 'CV1_score': 0.9534883720930233, 'CV1_mean_score': 0.702576398776565}\n",
      "split =CV2:\n",
      "{'param': {'C': 0.03125, 'coef0': 4, 'degree': 3, 'gamma': 2.0, 'kernel': 'poly', 'tol': 1.0}, 'accuracy_score': 0.8488372093023255, 'std_score': 0.06421721521620502, 'CV1_score': 0.9534883720930233, 'CV1_mean_score': 0.702576398776565}\n",
      "split =CV3:\n",
      "{'param': {'C': 0.03125, 'coef0': 4, 'degree': 4, 'gamma': 0.03125, 'kernel': 'poly', 'tol': 1.0}, 'accuracy_score': 0.8488372093023256, 'std_score': 0.04111085937131092, 'CV2_score': 0.8953488372093024, 'CV2_mean_score': 0.6297411406423035}\n",
      "split =CV4:\n",
      "{'param': {'C': 0.0078125, 'coef0': 5, 'degree': 4, 'gamma': 8.0, 'kernel': 'poly', 'tol': 1.0}, 'accuracy_score': 0.8255813953488372, 'std_score': 0.0881729702796692, 'CV3_score': 0.8953488372093024, 'CV3_mean_score': 0.6636008279280704}\n",
      "Global split scores:\n",
      "mean= 0.6636313149290725 std= 0.03289096477096587\n",
      "BestParams:  {'C': 128.0, 'coef0': 7, 'degree': 5, 'gamma': 0.00048828125, 'kernel': 'poly', 'tol': 0.01}\n",
      "Best scores: 0.872093023255814\n",
      "\n",
      "RBF :\n",
      "split =CV1:\n",
      "{'param': {'C': 128.0, 'coef0': 0, 'degree': 1, 'gamma': 0.125, 'kernel': 'rbf', 'tol': 0.001}, 'accuracy_score': 0.8430232558139535, 'std_score': 0.05726080117323317, 'CV1_score': 0.9418604651162791, 'CV1_mean_score': 0.6330564784053156}\n",
      "split =CV2:\n",
      "{'param': {'C': 128.0, 'coef0': 0, 'degree': 1, 'gamma': 0.125, 'kernel': 'rbf', 'tol': 0.001}, 'accuracy_score': 0.8430232558139535, 'std_score': 0.05726080117323317, 'CV1_score': 0.9418604651162791, 'CV1_mean_score': 0.6330564784053156}\n",
      "split =CV3:\n",
      "{'param': {'C': 8.0, 'coef0': 0, 'degree': 1, 'gamma': 0.03125, 'kernel': 'rbf', 'tol': 0.001}, 'accuracy_score': 0.8488372093023256, 'std_score': 0.0520015808720881, 'CV2_score': 0.872093023255814, 'CV2_mean_score': 0.5877999261720191}\n",
      "split =CV4:\n",
      "{'param': {'C': 512.0, 'coef0': 0, 'degree': 1, 'gamma': 0.0078125, 'kernel': 'rbf', 'tol': 1.0}, 'accuracy_score': 0.8430232558139535, 'std_score': 0.03900118565406608, 'CV3_score': 0.8372093023255814, 'CV3_mean_score': 0.5843669250645994}\n",
      "Global split scores:\n",
      "mean= 0.5985880398671096 std= 0.023873821824961623\n",
      "BestParams:  {'C': 2.0, 'coef0': 0, 'degree': 1, 'gamma': 0.125, 'kernel': 'rbf', 'tol': 0.001}\n",
      "Best scores: 0.8517441860465117\n",
      "\n",
      "Sigmoid :\n",
      "split =CV1:\n",
      "{'param': {'C': 128.0, 'coef0': 0, 'degree': 1, 'gamma': 0.0078125, 'kernel': 'sigmoid', 'tol': 0.001}, 'accuracy_score': 0.8343023255813954, 'std_score': 0.05224476963840532, 'CV1_score': 0.9186046511627907, 'CV1_mean_score': 0.5458356404577336}\n",
      "split =CV2:\n",
      "{'param': {'C': 128.0, 'coef0': 0, 'degree': 1, 'gamma': 0.0078125, 'kernel': 'sigmoid', 'tol': 0.001}, 'accuracy_score': 0.8343023255813954, 'std_score': 0.05224476963840532, 'CV1_score': 0.9186046511627907, 'CV1_mean_score': 0.5458356404577336}\n",
      "split =CV3:\n",
      "{'param': {'C': 8.0, 'coef0': 0, 'degree': 1, 'gamma': 0.0078125, 'kernel': 'sigmoid', 'tol': 1.0}, 'accuracy_score': 0.811046511627907, 'std_score': 0.0397523091022597, 'CV2_score': 0.8488372093023255, 'CV2_mean_score': 0.5385312846068661}\n",
      "split =CV4:\n",
      "{'param': {'C': 512.0, 'coef0': 1, 'degree': 1, 'gamma': 0.001953125, 'kernel': 'sigmoid', 'tol': 1.0}, 'accuracy_score': 0.8284883720930233, 'std_score': 0.03007000125810641, 'CV3_score': 0.813953488372093, 'CV3_mean_score': 0.5276831856773717}\n",
      "Global split scores:\n",
      "mean= 0.53343830749354 std= 0.018560351286453735\n",
      "BestParams:  {'C': 512.0, 'coef0': 0, 'degree': 1, 'gamma': 0.001953125, 'kernel': 'sigmoid', 'tol': 1.0}\n",
      "Best scores: 0.8401162790697675\n",
      "\n"
     ]
    }
   ],
   "source": [
    "def vizSVModelDetailsMax(cvres ):\n",
    "    for k in range(CV0):\n",
    "        print(f'split =CV{k+1}:')\n",
    "        b= getBestForEachSplit(cvres, split =k)\n",
    "        print( b)\n",
    "\n",
    "    globalmeansc , globalstdsc= getGlobalScores(cvres)\n",
    "    print(\"Global split scores:\")\n",
    "    print('mean=', globalmeansc , 'std=',globalstdsc)\n",
    "\n",
    "for kern,  mdetail, model in zip(kernels, SVMsCV_res, SVMs): \n",
    "    print(kern, ':')\n",
    "    vizSVModelDetailsMax(cvres=mdetail)\n",
    "    print('BestParams: ', model.best_params_)\n",
    "    print(\"Best scores:\", model.best_score_)\n",
    "    print()"
   ]
  },
  {
   "cell_type": "code",
   "execution_count": 35,
   "metadata": {},
   "outputs": [
    {
     "data": {
      "text/plain": [
       "['kernel = linear, C = 0.5, tol = 1.0',\n",
       " 'kernel = poly, C = 128.0, tol = 0.01, gamma = 0.0005, degree = 5, coef0 = 7',\n",
       " 'kernel = rbf, C = 2.0, tol = 0.001, gamma = 0.125',\n",
       " 'kernel = sigmoid, C = 512.0, tol = 1.0, gamma = 0.002, coef0 = 0']"
      ]
     },
     "execution_count": 35,
     "metadata": {},
     "output_type": "execute_result"
    }
   ],
   "source": [
    "SVMs = [SVMLinear, SVMpoly , SVMrbf, SVMsigmoid ] \n",
    "\n",
    "paramC_test = [ model.best_params_['C'] for model in SVMs ]\n",
    "paramC_test\n",
    "hparamLinear =['kernel', 'C', 'tol', ]\n",
    "hparamPoly =['kernel', 'C', 'tol', 'gamma', 'degree', 'coef0']\n",
    "hparamrbf =['kernel', 'C', 'tol', 'gamma']\n",
    "hparamsigmoid =['kernel', 'C', 'tol', 'gamma',  'coef0']\n",
    "StrParamsList = [hparamLinear , hparamPoly, hparamrbf, hparamsigmoid  ]\n",
    "temp0=list()\n",
    "makeParamsStrings =list()\n",
    "for pstrl, model in zip(StrParamsList  , SVMs ): \n",
    "    for k in pstrl: \n",
    "        for key , values in model.best_params_.items(): \n",
    "            if key ==k :\n",
    "                try :\n",
    "                    temp0.append(f'{k} = {round(values, 4)}') \n",
    "                except: \n",
    "                    temp0.append(f'{k} = {values}') \n",
    "    makeParamsStrings .append(', '.join(temp0) )\n",
    "    temp0=[]\n",
    "    #fig.savefig (f\"images/learninfcurveSVM0_Ceq{paramc}.png\", dpi =300)\n",
    "makeParamsStrings \n"
   ]
  },
  {
   "cell_type": "code",
   "execution_count": 36,
   "metadata": {},
   "outputs": [
    {
     "data": {
      "image/png": "[encoded data removed]",
      "text/plain": [
       "<Figure size 1584x432 with 4 Axes>"
      ]
     },
     "metadata": {},
     "output_type": "display_data"
    }
   ],
   "source": [
    "fig, ax = plt.subplots(1, 4, figsize =(22, 6))\n",
    "fig.subplots_adjust(left=0.0625, right = 0.95, wspace = 0.1)\n",
    "paramC_test =[0.5, 1, 1.5]\n",
    "\n",
    "for k, (model, parmL) in enumerate(zip(SVMs, makeParamsStrings)): \n",
    "    N, train_lc , val_lc = learning_curve(SVC(**model.best_params_), Xb_train, yb_train, \n",
    "                                            train_sizes = np.linspace(0.1, 1, 50),\n",
    "                                            cv=cv)\n",
    "    ax[k].plot(N, np.mean(train_lc, 1), color =\"blue\", label =\"train score\")\n",
    "    ax[k].plot(N, np.mean(val_lc, 1), color =\"r\", label =\"validation score\")\n",
    "    ax[k].hlines(np.mean([train_lc[-1], val_lc[-1]]), N[0], N[-1], color=\"gray\", linestyle =\"--\")\n",
    "    ax[k].set_ylim(0.4, 1)\n",
    "    #ax[k].set_xlim (N[0], N[1])\n",
    "    ax[k].set_xlabel(\"training size\")\n",
    "    #ax[k].set_ylabel(\"score\")\n",
    "    ax[k].set_title(parmL, size=14)\n",
    "    #ax[k].legend(loc=\"lower left\")\n",
    "\n"
   ]
  },
  {
   "cell_type": "markdown",
   "metadata": {},
   "source": [
    "## Model error evaluation "
   ]
  },
  {
   "cell_type": "code",
   "execution_count": 37,
   "metadata": {},
   "outputs": [],
   "source": [
    "from sklearn.metrics import (confusion_matrix, accuracy_score, f1_score, average_precision_score, \n",
    "                            roc_auc_score, precision_score, recall_score, plot_roc_curve) \n",
    "from yellowbrick.classifier import (ROCAUC, PrecisionRecallCurve , ClassPredictionError ,\n",
    "                         ConfusionMatrix , ClassificationReport)\n",
    "from sklearn.linear_model import LogisticRegression "
   ]
  },
  {
   "cell_type": "code",
   "execution_count": 38,
   "metadata": {},
   "outputs": [],
   "source": [
    "mappingc ={0:'<FR2', 1:'>=FR2'}\n",
    "classes =['<FR2', '>=FR2']\n",
    "\n",
    "# Useful functions \n",
    "def predictTestSet (model, X): \n",
    "    ypred = model.predict(X)\n",
    "    return ypred \n",
    "\n",
    "def visualizeCfxFromSklearn (ytrue, ypred, plot =True, ax=None , annot=True ): \n",
    "    mat= confusion_matrix (ytrue, ypred)\n",
    "    if plot: \n",
    "        sns.heatmap (mat.T, square =True, annot =annot,  fmt='d', cbar=False, ax=ax)\n",
    "        #xticklabels= list(np.unique(ytrue.values)), yticklabels= list(np.unique(ytrue.values)))\n",
    "        ax.set_xlabel('true labels')\n",
    "        #ax.set_ylabel ('predicted label')\n",
    "    return mat \n",
    "\n",
    "def visualizeCfxFromYellowbrick (model, XTest, yTest, savefig =None, \n",
    "            figsize =(6, 6), labels =classes , label_encoder = mappingc ): \n",
    "    fig, ax = plt.subplots(figsize = figsize )\n",
    "    cm_viz= ConfusionMatrix (model, \n",
    "                            classes=labels, \n",
    "                        label_encoder = label_encoder, \n",
    "                         )\n",
    "    cm_viz.score(XTest, yTest)\n",
    "    cm_viz.poof()\n",
    "\n",
    "    if savefig is not None: \n",
    "        fig.savefig(savefig, dpi =300)\n",
    "    return cm_viz \n",
    "\n",
    "def classifReport(model, XTest, yTest, savefig =None, \n",
    "            figsize =(6, 3), labels =classes , label_encoder = mappingc): \n",
    "    fig, ax = plt.subplots(figsize = figsize )\n",
    "    cl_viz= ClassificationReport (model, \n",
    "                            classes=labels, \n",
    "                        label_encoder = label_encoder, \n",
    "                         )\n",
    "    cl_viz.score(XTest, yTest)\n",
    "    cl_viz.poof()\n",
    "\n",
    "    if savefig is not None: \n",
    "        fig.savefig(savefig, dpi =300)\n",
    "    return cl_viz \n",
    "def rocaucFromYellowbrick(model, XTest, yTest, savefig =None, \n",
    "            figsize =(6, 6)): \n",
    "    fig, ax = plt.subplots(figsize = figsize )\n",
    "    roc_viz = ROCAUC(model)\n",
    "    roc_viz.score(XTest, yTest)\n",
    "    roc_viz.poof()\n",
    "\n",
    "    if savefig is not None: \n",
    "        fig.savefig(savefig, dpi =300)\n",
    "    return roc_viz \n",
    "\n",
    "def precisionRecallCurveFromYellowbrick(model, X, y,  XTest, yTest,  labels =classes, savefig =None, axis=None, \n",
    "            figsize =(6, 4)): \n",
    "    #fig, ax = plt.subplots(figsize = figsize )\n",
    "    prc_viz = PrecisionRecallCurve(model, \n",
    "    classes = labels,\n",
    "     axis =axis )\n",
    "    prc_viz .fit(X, y)\n",
    "    prc_viz .score(XTest, yTest)\n",
    "    prc_viz .poof() \n",
    "    if savefig is not None: \n",
    "        fig.savefig(savefig, dpi =300)\n",
    "    return prc_viz  \n",
    "       \n",
    "# quick metrics \n",
    "def accuracyScore (ytrue, ypred): \n",
    "    return accuracy_score (ytrue, ypred)\n",
    "def recallScore (ytrue, ypred): \n",
    "    return recall_score (ytrue, ypred)\n",
    "def PrecisionScore (ytrue, ypred): \n",
    "    return precision_score (ytrue, ypred)\n",
    "def f1Score (ytrue, ypred): \n",
    "    return f1_score (ytrue, ypred)\n",
    "\n",
    "\n",
    "def classPredictorError(model, XTest, yTest, savefig =None, axis=None, labels =classes, labels_encoder =mappingc, \n",
    "            figsize =(6, 6)\n",
    "             ): \n",
    "    fig, ax = plt.subplots(figsize = figsize )\n",
    "    cpe_viz = ClassPredictionError(model, classes = labels, \n",
    "                                    ax =axis,\n",
    "                                     encoder = labels_encoder\n",
    "                                     )\n",
    "    cpe_viz .score(XTest, yTest)\n",
    "    cpe_viz .poof()\n",
    "\n",
    "    if savefig is not None: \n",
    "        fig.savefig(savefig, dpi =300)\n",
    "    return cpe_viz \n",
    "\n",
    "def averagePrecisionScore (model, X, y): \n",
    "    ypred = model.predict(X,)\n",
    "    return average_precision_score(y, ypred)\n",
    "\n",
    "\n"
   ]
  },
  {
   "cell_type": "code",
   "execution_count": 39,
   "metadata": {},
   "outputs": [
    {
     "name": "stdout",
     "output_type": "stream",
     "text": [
      "Linear : accuracy -score =  0.8390804597701149\n",
      "Linear : recall -score =  0.8409090909090909\n",
      "Linear : precision -score =  0.8409090909090909\n",
      "Linear : ROC AUC-score =  0.8390591966173361\n",
      "Polynomial : accuracy -score =  0.8390804597701149\n",
      "Polynomial : recall -score =  0.8409090909090909\n",
      "Polynomial : precision -score =  0.8409090909090909\n",
      "Polynomial : ROC AUC-score =  0.8390591966173361\n",
      "RBF : accuracy -score =  0.8735632183908046\n",
      "RBF : recall -score =  0.8636363636363636\n",
      "RBF : precision -score =  0.8837209302325582\n",
      "RBF : ROC AUC-score =  0.873678646934461\n",
      "Sigmoid : accuracy -score =  0.8505747126436781\n",
      "Sigmoid : recall -score =  0.8636363636363636\n",
      "Sigmoid : precision -score =  0.8444444444444444\n",
      "Sigmoid : ROC AUC-score =  0.8504228329809724\n"
     ]
    },
    {
     "data": {
      "image/png": "[encoded data removed]",
      "text/plain": [
       "<Figure size 1584x432 with 4 Axes>"
      ]
     },
     "metadata": {},
     "output_type": "display_data"
    }
   ],
   "source": [
    "#SVMs = [SVMLinear, SVMpoly , SVMrbf, SVMsigmoid ] \n",
    "#kernels =['Linear', 'Polynomial', 'RBF', 'Sigmoid']\n",
    "fig, ax = plt.subplots(1, 4, figsize =(22, 6))\n",
    "fig.subplots_adjust(left=0.0625, right = 0.95, wspace = 0.12)\n",
    "\n",
    "def multipleEvaluationKplus(X,y ,  sklfx =True, yelcfx=False, axis =None, \n",
    "                models = SVMs, modelsnames=kernels, annot =True):\n",
    "    if sklfx : \n",
    "        yelcfx=False \n",
    "    elif yelcfx: sklfx =False \n",
    "    for kk, (svm , kern) in enumerate(zip(models, modelsnames )): \n",
    "        ypred = predictTestSet (svm, X)\n",
    "        acc_scores = accuracy_score(y, ypred)\n",
    "        print(f\"{kern} : accuracy -score = \", acc_scores)\n",
    "        rec_scores = recall_score(y, ypred)\n",
    "        print(f\"{kern} : recall -score = \", rec_scores)\n",
    "        prec_scores = precision_score(y, ypred)\n",
    "        print(f\"{kern} : precision -score = \", prec_scores)\n",
    "        rocauc_scores= roc_auc_score (yb_test, ypred)\n",
    "        print(f\"{kern} : ROC AUC-score = \", rocauc_scores)\n",
    "        \n",
    "        if sklfx : \n",
    "            visualizeCfxFromSklearn(y, ypred, annot =annot , ax = axis[kk] )\n",
    "        elif yelcfx:\n",
    "            visualizeCfxFromYellowbrick(svm, X, y)\n",
    "        \n",
    "multipleEvaluationKplus(Xb_test, yb_test, axis =ax )"
   ]
  },
  {
   "cell_type": "code",
   "execution_count": 40,
   "metadata": {},
   "outputs": [],
   "source": [
    "SVMs_test =deepcopy(SVMs)\n",
    "# for kk, (svm , kern) in enumerate(zip(SVMs, kernels )): \n",
    "#     classPredictorError(svm, Xb_test, yb_test, )"
   ]
  },
  {
   "cell_type": "code",
   "execution_count": 41,
   "metadata": {},
   "outputs": [],
   "source": [
    "# for kk, (svm , kern) in enumerate(zip(SVMs, kernels )): \n",
    "#      precisionRecallCurveFromYellowbrick(svm,Xb_train, yb_train,  Xb_test, yb_test)\n",
    "\n",
    "\n"
   ]
  },
  {
   "cell_type": "code",
   "execution_count": 42,
   "metadata": {},
   "outputs": [],
   "source": [
    "# for kk, (svm , kern) in enumerate(zip(SVMs, kernels )): \n",
    "#      precisionRecallCurveFromYellowbrick(svm,Xb_train, yb_train,  Xb_test, yb_test , axis =ax[kk])"
   ]
  },
  {
   "cell_type": "code",
   "execution_count": 43,
   "metadata": {},
   "outputs": [
    {
     "name": "stdout",
     "output_type": "stream",
     "text": [
      "Linear : average precision-score =  0.7875878692884963\n",
      "Polynomial : average precision-score =  0.7875878692884963\n",
      "RBF : average precision-score =  0.8321790478967704\n",
      "Sigmoid : average precision-score =  0.7982584465343087\n"
     ]
    }
   ],
   "source": [
    "for kk, (svm , kern) in enumerate(zip(SVMs_test, kernels )): \n",
    "    avgprec_scores= averagePrecisionScore (svm, Xb_test, y=yb_test)\n",
    "    print(f\"{kern} : average precision-score = \", avgprec_scores)"
   ]
  },
  {
   "cell_type": "code",
   "execution_count": 44,
   "metadata": {},
   "outputs": [
    {
     "name": "stdout",
     "output_type": "stream",
     "text": [
      "Linear : ROC AUC-score =  0.8390591966173361\n",
      "Polynomial : ROC AUC-score =  0.8390591966173361\n",
      "RBF : ROC AUC-score =  0.873678646934461\n",
      "Sigmoid : ROC AUC-score =  0.8504228329809724\n"
     ]
    }
   ],
   "source": [
    "for kk, (svm , kern) in enumerate(zip(SVMs_test, kernels )): \n",
    "    ypred = predictTestSet (svm, Xb_test)\n",
    "    rocauc_scores= roc_auc_score (yb_test, ypred)\n",
    "    print(f\"{kern} : ROC AUC-score = \", rocauc_scores)"
   ]
  },
  {
   "cell_type": "code",
   "execution_count": 45,
   "metadata": {},
   "outputs": [
    {
     "data": {
      "text/plain": [
       "Text(0.5, 0.98, 'ROC CURVE comparison')"
      ]
     },
     "execution_count": 45,
     "metadata": {},
     "output_type": "execute_result"
    },
    {
     "data": {
      "image/png": "[encoded data removed]",
      "text/plain": [
       "<Figure size 576x396 with 1 Axes>"
      ]
     },
     "metadata": {},
     "output_type": "display_data"
    }
   ],
   "source": [
    "#SVMs = [SVMLinear, SVMpoly , SVMrbf, SVMsigmoid ] \n",
    "linbplus = plot_roc_curve(SVMLinear, Xb_test, yb_test)\n",
    "polybplus = plot_roc_curve(SVMpoly, Xb_test, yb_test, ax= linbplus.ax_)\n",
    "rbfbplus = plot_roc_curve(SVMrbf, Xb_test, yb_test, ax= linbplus.ax_)\n",
    "sigbplus = plot_roc_curve(SVMsigmoid, Xb_test, yb_test, ax= linbplus.ax_)\n",
    "\n",
    "sigbplus.figure_.suptitle('ROC CURVE comparison')"
   ]
  },
  {
   "cell_type": "markdown",
   "metadata": {},
   "source": [
    "## rbfplus vs logistic regression "
   ]
  },
  {
   "cell_type": "code",
   "execution_count": 46,
   "metadata": {},
   "outputs": [
    {
     "data": {
      "text/plain": [
       "LogisticRegression(random_state=42)"
      ]
     },
     "execution_count": 46,
     "metadata": {},
     "output_type": "execute_result"
    }
   ],
   "source": [
    "logreg= LogisticRegression (C=1.0, penalty= 'l2', random_state=42)\n",
    "logreg.fit(Xb_train, yb_train)\n"
   ]
  },
  {
   "cell_type": "code",
   "execution_count": 47,
   "metadata": {},
   "outputs": [
    {
     "name": "stdout",
     "output_type": "stream",
     "text": [
      "RBF+ : accuracy -score =  0.8735632183908046\n",
      "RBF+ : recall -score =  0.8636363636363636\n",
      "RBF+ : precision -score =  0.8837209302325582\n",
      "RBF+ : ROC AUC-score =  0.873678646934461\n",
      "LOGREG : accuracy -score =  0.8620689655172413\n",
      "LOGREG : recall -score =  0.8409090909090909\n",
      "LOGREG : precision -score =  0.8809523809523809\n",
      "LOGREG : ROC AUC-score =  0.8623150105708245\n"
     ]
    },
    {
     "data": {
      "image/png": "[encoded data removed]",
      "text/plain": [
       "<Figure size 1296x432 with 2 Axes>"
      ]
     },
     "metadata": {},
     "output_type": "display_data"
    }
   ],
   "source": [
    "fig, ax = plt.subplots(1, 2, figsize =(18, 6))\n",
    "fig.subplots_adjust(left=0.0625, right = 0.95, wspace = 0.05)\n",
    "\n",
    "# for kk, (model , name) in enumerate(zip(, ['RBF+', 'LOGREG'] )): \n",
    "#     ypred = predictTestSet (model, Xb_test)\n",
    "    \n",
    "#     rocauc_scores= roc_auc_score (yb_test, ypred)\n",
    "#     print(f\"{name} : ROC AUC-score = \", rocauc_scores)\n",
    "\n",
    "multipleEvaluationKplus(Xb_test, yb_test, sklfx =True, axis =ax, annot =True, \n",
    "                models = [SVMrbf,logreg] , modelsnames= ['RBF+', 'LOGREG'] )"
   ]
  },
  {
   "cell_type": "code",
   "execution_count": 48,
   "metadata": {},
   "outputs": [
    {
     "data": {
      "text/plain": [
       "Text(0.5, 0.98, 'ROC CURVE comparison')"
      ]
     },
     "execution_count": 48,
     "metadata": {},
     "output_type": "execute_result"
    },
    {
     "data": {
      "image/png": "[encoded data removed]",
      "text/plain": [
       "<Figure size 576x396 with 1 Axes>"
      ]
     },
     "metadata": {},
     "output_type": "display_data"
    }
   ],
   "source": [
    "#SVMs = [SVMLinear, SVMpoly , SVMrbf, SVMsigmoid ] \n",
    "logregplus = plot_roc_curve(logreg, Xb_test, yb_test)\n",
    "rbfbplus = plot_roc_curve(SVMrbf, Xb_test, yb_test, ax= logregplus.ax_)\n",
    "\n",
    "\n",
    "sigbplus.figure_.suptitle('ROC CURVE comparison')"
   ]
  },
  {
   "cell_type": "markdown",
   "metadata": {},
   "source": [
    "## Ensemble learnings "
   ]
  },
  {
   "cell_type": "code",
   "execution_count": 54,
   "metadata": {},
   "outputs": [],
   "source": [
    "from sklearn.ensemble import (\n",
    "                           RandomForestClassifier ,\n",
    "                           VotingClassifier, \n",
    "                           BaggingClassifier,\n",
    "                           StackingClassifier,\n",
    "                           AdaBoostClassifier\n",
    ") \n",
    "from sklearn.neighbors import KNeighborsClassifier \n",
    "from sklearn.tree import DecisionTreeClassifier \n",
    "from xgboost import XGBClassifier "
   ]
  },
  {
   "cell_type": "code",
   "execution_count": 55,
   "metadata": {},
   "outputs": [
    {
     "data": {
      "text/plain": [
       "({'C': array([1.e-03, 1.e-02, 1.e-01, 1.e+00, 1.e+01, 1.e+02, 1.e+03]),\n",
       "  'penalty': ['l1', 'l2']},\n",
       " {'n_neighbors': array([ 2,  3,  4,  5,  6,  7,  8,  9, 10]),\n",
       "  'metric': ['minkowski', 'manhattan'],\n",
       "  'p': [1, 2]},\n",
       " {'bootstrap': [True],\n",
       "  'criterion': ['gini', 'entropy'],\n",
       "  'max_depth': array([ 2,  3,  4,  5,  6,  7,  8,  9, 10, 11, 12, 13, 14, 15, 16, 17, 18,\n",
       "         19, 20]),\n",
       "  'n_estimators': array([ 50, 100, 150, 200, 250, 300, 350, 400, 450, 500])},\n",
       " {'criterion': ['gini', 'entropy'],\n",
       "  'max_depth': array([ 2,  3,  4,  5,  6,  7,  8,  9, 10, 11, 12, 13, 14, 15, 16, 17, 18,\n",
       "         19, 20]),\n",
       "  'n_estimators': array([ 50, 100, 150, 200, 250, 300, 350, 400, 450, 500])},\n",
       " {'max_depth': array([ 2,  3,  4,  5,  6,  7,  8,  9, 10, 11, 12, 13, 14, 15, 16, 17, 18,\n",
       "         19, 20]),\n",
       "  'learning_rate': array([0.01, 0.02, 0.03, 0.04, 0.05, 0.06, 0.07, 0.08, 0.09, 0.1 , 0.11,\n",
       "         0.12, 0.13, 0.14, 0.15, 0.16, 0.17, 0.18, 0.19, 0.2 ]),\n",
       "  'n_estimators': array([ 50, 100, 150, 200, 250, 300, 350, 400, 450, 500]),\n",
       "  'gamma': array([ 0. ,  0.5,  1. ,  1.5,  2. ,  2.5,  3. ,  3.5,  4. ,  4.5,  5. ,\n",
       "          5.5,  6. ,  6.5,  7. ,  7.5,  8. ,  8.5,  9. ,  9.5, 10. ]),\n",
       "  'booster': ['gbtree']})"
      ]
     },
     "execution_count": 55,
     "metadata": {},
     "output_type": "execute_result"
    }
   ],
   "source": [
    "# param grid with will all base learners \n",
    "\n",
    "lr_params = {\n",
    "    \"C\": np.power(10 , np.arange(-3, 4,  dtype =float)), \n",
    "    \"penalty\":['l1', 'l2'], \n",
    "\n",
    "}\n",
    "knn_params ={\n",
    "    \"n_neighbors\":np.arange(2, 11), \n",
    "    \"metric\": ['minkowski', 'manhattan'], \n",
    "    \"p\":[1, 2]\n",
    "}\n",
    "\n",
    "dt_params = {\n",
    "    \"criterion\":[\"gini\", \"entropy\"],\n",
    "    \"max_depth\":np.arange(2, 21), \n",
    "    \"n_estimators\": np.array(list (50 * x for x in np.arange(1, 11))),\n",
    "     }\n",
    "\n",
    "lr_params, knn_params, rf_params, dt_params"
   ]
  },
  {
   "cell_type": "code",
   "execution_count": 56,
   "metadata": {},
   "outputs": [],
   "source": [
    "rs=42\n",
    "# get pSVM \n",
    "pSVM = SVC ( C= 2.0 , kernel ='rbf', gamma = 0.1250, tol = 1.e-03) \n",
    "#################################################\n",
    "bsi_params =[lr_params, knn_params , dt_params] \n",
    "\n",
    "bsi =[LogisticRegression (random_state=rs), KNeighborsClassifier(), DecisionTreeClassifier (random_state=rs)] \n",
    "bsi_names = ['lr', \"knn\", \"dt\"] \n",
    "\n"
   ]
  },
  {
   "cell_type": "code",
   "execution_count": 57,
   "metadata": {},
   "outputs": [
    {
     "name": "stdout",
     "output_type": "stream",
     "text": [
      "LogisticRegression: CV accuracy: nan +/- nan\n",
      " Lr - best score: 0.8372093023255814\n",
      "Lr - best params: {'C': 1.0, 'penalty': 'l2'}\n",
      "KNeighborsClassifier: CV accuracy: nan +/- nan\n",
      " Knn - best score: 0.8023255813953488\n",
      "Knn - best params: {'metric': 'minkowski', 'n_neighbors': 9, 'p': 1}\n",
      "DecisionTreeClassifier: CV accuracy: nan +/- nan\n"
     ]
    }
   ],
   "source": [
    "# run all grid searches \n",
    "bsigridObjs , bsigridScores ={}, {}\n",
    "for param_grid , clf , name in zip(bsi_params, bsi , bsi_names): \n",
    "    gs , scores= gridSearchSVM (clf, X=Xb_train, y=yb_train, \n",
    "     param_grid= param_grid , cv =cv )\n",
    "    print(f\" {name.capitalize()} - best score:\", gs.best_score_ ) \n",
    "    print(f\"{name.capitalize()} - best params:\", gs.best_params_)\n",
    "    bsigridObjs[name] = gs \n",
    "    bsigridScores [name]=scores \n",
    "\n",
    "bsidata = (bsigridObjs, bsigridScores)\n",
    "\n",
    "savef(data = bsidata , fn ='init_base_learners' )"
   ]
  },
  {
   "cell_type": "code",
   "execution_count": null,
   "metadata": {},
   "outputs": [
    {
     "name": "stdout",
     "output_type": "stream",
     "text": [
      "[ 0.   0.5  1.   1.5  2.   2.5  3.   3.5  4.   4.5  5.   5.5  6.   6.5\n",
      "  7.   7.5  8.   8.5  9.   9.5 10. ]\n"
     ]
    },
    {
     "data": {
      "text/plain": [
       "array([ 0. ,  0.5,  1. ,  1.5,  2. ,  2.5,  3. ,  3.5,  4. ,  4.5,  5. ,\n",
       "        5.5,  6. ,  6.5,  7. ,  7.5,  8. ,  8.5,  9. ,  9.5, 10. ])"
      ]
     },
     "execution_count": 98,
     "metadata": {},
     "output_type": "execute_result"
    }
   ],
   "source": [
    "# run all grid searche\n",
    "#base_learners = []\n",
    "# gridObjs , gridScores ={}, {}\n",
    "# for param_grid , kernel in zip(param_grids, \n",
    "# ['poly', 'linear', 'sigmoid', 'rbf']): \n",
    "#     gs , scores= gridSearchSVM (SVC(), X=Xb_train, y=yb_train, \n",
    "#      param_grid= param_grid ,\n",
    "#      cv =cv )\n",
    "#     print(f\" {kernel.capitalize()} - best score:\", gs.best_score_ ) \n",
    "#     print(f\"{kernel.capitalize()} - best params:\", gs.best_params_)\n",
    "#     gridObjs[kernel] = gs \n",
    "#     gridScores [kernel]=scores \n",
    "def plotLearningCurves(meta, CVmodels, param_names =None): \n",
    "    if param_names is not None: \n",
    "        if len(meta) != len(CVmodels) : param_names  = None \n",
    "    if param_names is None: \n",
    "        param_names = [' ' for i in range(len(CVmodels))]\n",
    "    fig, ax = plt.subplots(1, 4, figsize =(22, 6))\n",
    "    fig.subplots_adjust(left=0.0625, right = 0.95, wspace = 0.1)\n",
    "\n",
    "    for k, (mod, model, parmL) in enumerate(zip(meta, CVmodels,  param_names)): \n",
    "        N, train_lc , val_lc = learning_curve(mod(**model.best_params_), Xb_train, yb_train, \n",
    "                                                train_sizes = np.linspace(0.1, 1, 50),\n",
    "                                                cv=cv)\n",
    "        ax[k].plot(N, np.mean(train_lc, 1), color =\"blue\", label =\"train score\")\n",
    "        ax[k].plot(N, np.mean(val_lc, 1), color =\"r\", label =\"validation score\")\n",
    "        ax[k].hlines(np.mean([train_lc[-1], val_lc[-1]]), N[0], N[-1], color=\"gray\", linestyle =\"--\")\n",
    "        ax[k].set_ylim(0.4, 1)\n",
    "        #ax[k].set_xlim (N[0], N[1])\n",
    "        ax[k].set_xlabel(\"training size\")\n",
    "        #ax[k].set_ylabel(\"score\")\n",
    "        ax[k].set_title(parmL, size=14)\n"
   ]
  },
  {
   "cell_type": "code",
   "execution_count": null,
   "metadata": {},
   "outputs": [],
   "source": [
    "bsi_names = ['lr', \"knn\", \"dt\", \"pSVM\"] \n",
    "LRc = bsigridObjs['lr']\n",
    "KNNc=  bsigridObjs['knn']\n",
    "#SVMrbf = gridObjs['rbf']\n",
    "DTc = gridObjs['dt']\n",
    "\n",
    "cvres_LRc = LRc.cv_results_\n",
    "cvres_KNNc= KNNc.cv_results_\n",
    "#cvres_rbf= SVMrbf.cv_results_\n",
    "cvres_DTc= DTc.cv_results_\n",
    "\n",
    "\n",
    "base_learners= [LRc, KNNc , DTc , SVMrbf ] \n",
    "base_learners_meta = [LogisticRegression, KNeighborsClassifier, DecisionTreeClassifier, SVC]\n",
    "SVMsCV_res =[cvres_LRc, cvres_KNNc,  cvres_DTc, cvres_rbf]\n",
    "\n",
    "base_learners_names = ['lr', \"knn\", \"dt\", \"pSVM\"] \n",
    "\n",
    "plotLearningCurves( meta= base_learners_meta, CVmodels= base_learners , param_names= base_learners_names )\n"
   ]
  },
  {
   "cell_type": "code",
   "execution_count": null,
   "metadata": {},
   "outputs": [],
   "source": [
    "for name,  mdetail, model in zip(base_learners_names, SVMsCV_res, base_learners): \n",
    "    print(name, ':')\n",
    "    vizSVModelDetailsMax(cvres=mdetail)\n",
    "    print('BestParams: ', model.best_params_)\n",
    "    print(\"Best scores:\", model.best_score_)\n",
    "    print()"
   ]
  },
  {
   "cell_type": "markdown",
   "metadata": {},
   "source": [
    "### Ensemble params \n"
   ]
  },
  {
   "cell_type": "code",
   "execution_count": null,
   "metadata": {},
   "outputs": [],
   "source": [
    "\n",
    "BL = [meta(**param.best_params_) for meta, param in zip(base_learners_meta, base_learners_meta)]\n",
    "# VOTTING classifier \n",
    "\n",
    "# Voting_clf = VotingClassifier( estimators = [\n",
    "#         ('lr',LRc.best_params_ ),\n",
    "#         ('knn', KNNc.best_params_),\n",
    "#         ('dt', DTc.best_params_), \n",
    "#         ('pSVM', SVMrbf.best_params_)\n",
    "# ], voting ='hard'\n",
    "# )\n",
    "########################### BENCHMARK 0 ###############################################\n",
    "voting_params={\n",
    "    \"estimators\": [('lr',LRc.best_params_ ),('knn', KNNc.best_params_),('dt', DTc.best_params_), ('pSVM', SVMrbf.best_params_)],\n",
    "    \"voting\": [\"hard\"]\n",
    "    \n",
    "}\n",
    "########################### BAGING AND PASTING ################################\n",
    "# rf (BAGGING) \n",
    "rf_params ={\n",
    "    \"bootstrap\":[True],\n",
    "    \"criterion\":[\"gini\", \"entropy\"],\n",
    "    \"max_depth\":np.arange(2, 21), \n",
    "    \"n_estimators\": np.array(list (50 * x for x in np.arange(1, 11))), \n",
    "}\n",
    "\n",
    "# PASTING\n",
    "past_params = {\n",
    "     \"bootstrap\":[False],\n",
    "    \"criterion\":[\"gini\", \"entropy\"],\n",
    "    \"max_depth\":np.arange(2, 21), \n",
    "    \"n_estimators\": np.array(list (50 * x for x in np.arange(1, 11))), \n",
    " }\n",
    "#################################### BOOSTING ###############################\n",
    "#xgboost \n",
    "xgboot_params={\n",
    "    \"max_depth\":np.arange(2, 21),\n",
    "    \"learning_rate\":np.array(list(x/100 for x in range (1, 21, 2))), \n",
    "    \"n_estimators\": np.array(list (50 * x for x in np.arange(1, 11))), \n",
    "    \"gamma\": np.arange(0, 21)/2, \n",
    "    \"booster\":['gbtree']#'gblinear', 'dart'],\n",
    "}\n",
    "# adaboost \n",
    "AdaBoostClassifier()\n",
    "ada_params ={\n",
    "    \"base_estimator\":BL,\n",
    "    \"n_estimators\": np.array(list (50 * x for x in np.arange(1, 11))),\n",
    "    \"learning_rate\":np.array(list(x/100 for x in range (1, 21, 2))), \n",
    "}\n",
    "################### STACKING ############################################\n",
    "StackingClassifier()\n",
    "stc_params ={\n",
    "    \"estimators\":BL,\n",
    "    \"final_estimator\":[DTc],\n",
    "    \"cv\":cv\n",
    "}\n",
    "\n",
    "ensembles =[VotingClassifier , RandomForestClassifier , BaggingClassifier, AdaBoostClassifier, XGBClassifier, StackingClassifier]\n",
    "ensembles_names = ['vot', 'rf', 'past', 'ada', 'xgboost', 'stc']\n",
    "ensembles_params =[voting_params, rf_params, past_params, ada_params, xgboot_params, stc_params]\n"
   ]
  },
  {
   "cell_type": "code",
   "execution_count": null,
   "metadata": {},
   "outputs": [],
   "source": [
    "def gridSearch (clf, X, y, *,  scoring ='accuracy', param_grid =None,\n",
    "                    cv =None, nestedcv =True, func = GridSearchCV ): \n",
    "\n",
    "    gsobj = func (estimator =clf, \n",
    "                   param_grid=param_grid, \n",
    "                   scoring =scoring , \n",
    "                   cv =cv  , refit=True,\n",
    "                    n_jobs=-1)\n",
    "   \n",
    "    if nestedcv: \n",
    "        scores= cross_val_score(gsobj, X, y, scoring =scoring , cv =cv )\n",
    "        #print(f'{param_grid [\"kernel\"][0]}: CV accuracy: %3.f +/- %3.f' %(np.mean(scores), np.std(scores)) )\n",
    "        print(f'{clf.__class__.__name__}: CV accuracy: %3.f +/- %3.f' %(np.mean(scores), np.std(scores)) )\n",
    "        \n",
    "    gsobj = gsobj.fit(X, y)\n",
    "    return gsobj, scores if nestedcv else None"
   ]
  },
  {
   "cell_type": "code",
   "execution_count": null,
   "metadata": {},
   "outputs": [],
   "source": [
    "# run all grid searches \n",
    "ensgridObjs , ensgridScores ={}, {}\n",
    "for param_grid , clf , name in zip(ensembles_params, ensembles , ensembles_names ): \n",
    "    gs , scores= gridSearch (clf (), X=Xb_train, y=yb_train, func = RandomizedSearchCV , \n",
    "     param_grid= param_grid , cv =cv ) \n",
    "    print(f\" {name.capitalize()} - best score:\", gs.best_score_ ) \n",
    "    print(f\"{name.capitalize()} - best params:\", gs.best_params_)\n",
    "    ensgridObjs[name] = gs \n",
    "    ensgridScores [name]=scores \n",
    "\n",
    "ensemble_data = (ensgridObjs, ensgridScores)\n",
    "\n",
    "savef(data = ensemble_data  , fn ='ensemble_learning_' )"
   ]
  },
  {
   "cell_type": "code",
   "execution_count": null,
   "metadata": {},
   "outputs": [],
   "source": [
    "\n",
    "vot_clf= bsigridObjs['vot']\n",
    "rf_clf=  bsigridObjs['rf']\n",
    "past_clf = gridObjs['past']\n",
    "ada_clf=  bsigridObjs['ada']\n",
    "xgb_clf = gridObjs['xgboost']\n",
    "stc_clf=  bsigridObjs['stc']\n",
    "\n",
    "cvres_vot = vot_clf.cv_results_\n",
    "cvres_rf= rf_clf.cv_results_\n",
    "cvres_past = past_clf.cv_results_\n",
    "cvres_ada = ada_clf.cv_results_\n",
    "cvres_xgb= xgb_clf.cv_results_\n",
    "cvres_stc= stc_clf.cv_results_\n",
    "\n",
    "ensemble_clfs = [vot_clf, rf_clf, past_clf , ada_clf, xgb_clf, stc_clf ] \n",
    "SVMsCV_res =[cvres_vot, cvres_rf,  cvres_past, cvres_ada,cvres_xgb, cvres_stc ]\n",
    "\n",
    "plotLearningCurves( meta= ensembles, CVmodels=ensemble_clfs , param_names= ensembles_names )\n"
   ]
  },
  {
   "cell_type": "code",
   "execution_count": null,
   "metadata": {},
   "outputs": [],
   "source": [
    "for name,  mdetail, model in zip(ensembles_names, SVMsCV_res, ensemble_clfs): \n",
    "    print(name, ':')\n",
    "    vizSVModelDetailsMax(cvres=mdetail)\n",
    "    print('BestParams: ', model.best_params_)\n",
    "    print(\"Best scores:\", model.best_score_)\n",
    "    print()"
   ]
  }
 ],
 "metadata": {
  "kernelspec": {
   "display_name": "Python 3.9.12 ('venv': venv)",
   "language": "python",
   "name": "python3"
  },
  "language_info": {
   "codemirror_mode": {
    "name": "ipython",
    "version": 3
   },
   "file_extension": ".py",
   "mimetype": "text/x-python",
   "name": "python",
   "nbconvert_exporter": "python",
   "pygments_lexer": "ipython3",
   "version": "3.9.12"
  },
  "orig_nbformat": 4,
  "vscode": {
   "interpreter": {
    "hash": "ca9562ae58e1838991bb43b6ec2b4ecff9a1e8a5d2b047477a7afb6788a8243f"
   }
  }
 },
 "nbformat": 4,
 "nbformat_minor": 2
}
