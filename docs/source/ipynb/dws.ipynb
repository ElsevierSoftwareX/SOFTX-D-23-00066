{
 "cells": [
  {
   "cell_type": "code",
   "execution_count": 1,
   "metadata": {},
   "outputs": [],
   "source": [
    "import numpy as np \n",
    "import pandas as pd \n",
    "import missingno as msno\n",
    "import matplotlib.pyplot as plt \n",
    "from sklearn.impute import SimpleImputer \n",
    "from sklearn.compose import ColumnTransformer \n",
    "from yellowbrick.classifier import ConfusionMatrix, ClassBalance \n",
    "from sklearn.dummy import DummyClassifier \n",
    "from sklearn.model_selection import train_test_split \n",
    "from sklearn.preprocessing import StandardScaler , OneHotEncoder\n",
    "from copy import deepcopy\n",
    "from sklearn.svm import SVC \n",
    "from sklearn.model_selection import (validation_curve,\n",
    " learning_curve, GridSearchCV , cross_val_score)\n",
    "from sklearn.model_selection import KFold, StratifiedKFold , RepeatedStratifiedKFold\n",
    "from seaborn import boxplot \n",
    "\n",
    "#from yellowbrick.classifer import ConfusionMatrix \n",
    "import seaborn as sns \n",
    "sns.set()\n"
   ]
  },
  {
   "cell_type": "code",
   "execution_count": 2,
   "metadata": {},
   "outputs": [
    {
     "data": {
      "text/html": [
       "<div>\n",
       "<style scoped>\n",
       "    .dataframe tbody tr th:only-of-type {\n",
       "        vertical-align: middle;\n",
       "    }\n",
       "\n",
       "    .dataframe tbody tr th {\n",
       "        vertical-align: top;\n",
       "    }\n",
       "\n",
       "    .dataframe thead th {\n",
       "        text-align: right;\n",
       "    }\n",
       "</style>\n",
       "<table border=\"1\" class=\"dataframe\">\n",
       "  <thead>\n",
       "    <tr style=\"text-align: right;\">\n",
       "      <th></th>\n",
       "      <th>num</th>\n",
       "      <th>name</th>\n",
       "      <th>east</th>\n",
       "      <th>north</th>\n",
       "      <th>power</th>\n",
       "      <th>magnitude</th>\n",
       "      <th>shape</th>\n",
       "      <th>type</th>\n",
       "      <th>sfi</th>\n",
       "      <th>ohmS</th>\n",
       "      <th>lwi</th>\n",
       "      <th>geol</th>\n",
       "      <th>flow</th>\n",
       "    </tr>\n",
       "  </thead>\n",
       "  <tbody>\n",
       "    <tr>\n",
       "      <th>0</th>\n",
       "      <td>1</td>\n",
       "      <td>b1</td>\n",
       "      <td>790496</td>\n",
       "      <td>1175071.0</td>\n",
       "      <td>110</td>\n",
       "      <td>136</td>\n",
       "      <td>W</td>\n",
       "      <td>CP</td>\n",
       "      <td>0.388909</td>\n",
       "      <td>1666.165142</td>\n",
       "      <td>32.023585</td>\n",
       "      <td>VOLCANO-SEDIM. SCHISTS</td>\n",
       "      <td>2.5</td>\n",
       "    </tr>\n",
       "    <tr>\n",
       "      <th>1</th>\n",
       "      <td>2</td>\n",
       "      <td>b2</td>\n",
       "      <td>791227</td>\n",
       "      <td>1159566.0</td>\n",
       "      <td>70</td>\n",
       "      <td>142</td>\n",
       "      <td>V</td>\n",
       "      <td>EC</td>\n",
       "      <td>1.340127</td>\n",
       "      <td>1135.551531</td>\n",
       "      <td>21.406531</td>\n",
       "      <td>GRANITES</td>\n",
       "      <td>0.8</td>\n",
       "    </tr>\n",
       "    <tr>\n",
       "      <th>2</th>\n",
       "      <td>3</td>\n",
       "      <td>b3</td>\n",
       "      <td>774610</td>\n",
       "      <td>1136762.0</td>\n",
       "      <td>80</td>\n",
       "      <td>87</td>\n",
       "      <td>V</td>\n",
       "      <td>EC</td>\n",
       "      <td>0.446594</td>\n",
       "      <td>767.562500</td>\n",
       "      <td>0.000000</td>\n",
       "      <td>GRANITES</td>\n",
       "      <td>1.0</td>\n",
       "    </tr>\n",
       "    <tr>\n",
       "      <th>3</th>\n",
       "      <td>4</td>\n",
       "      <td>b4</td>\n",
       "      <td>776778</td>\n",
       "      <td>1128130.0</td>\n",
       "      <td>60</td>\n",
       "      <td>116</td>\n",
       "      <td>W</td>\n",
       "      <td>NC</td>\n",
       "      <td>0.763676</td>\n",
       "      <td>987.943553</td>\n",
       "      <td>28.709623</td>\n",
       "      <td>GRANITES</td>\n",
       "      <td>1.2</td>\n",
       "    </tr>\n",
       "    <tr>\n",
       "      <th>4</th>\n",
       "      <td>5</td>\n",
       "      <td>b5</td>\n",
       "      <td>762550</td>\n",
       "      <td>1144126.0</td>\n",
       "      <td>70</td>\n",
       "      <td>111</td>\n",
       "      <td>W</td>\n",
       "      <td>EC</td>\n",
       "      <td>0.068501</td>\n",
       "      <td>769.095833</td>\n",
       "      <td>2.300000</td>\n",
       "      <td>GEOSYN. GRANITES</td>\n",
       "      <td>1.5</td>\n",
       "    </tr>\n",
       "  </tbody>\n",
       "</table>\n",
       "</div>"
      ],
      "text/plain": [
       "   num name    east      north  power  magnitude shape type       sfi  \\\n",
       "0    1   b1  790496  1175071.0    110        136     W   CP  0.388909   \n",
       "1    2   b2  791227  1159566.0     70        142     V   EC  1.340127   \n",
       "2    3   b3  774610  1136762.0     80         87     V   EC  0.446594   \n",
       "3    4   b4  776778  1128130.0     60        116     W   NC  0.763676   \n",
       "4    5   b5  762550  1144126.0     70        111     W   EC  0.068501   \n",
       "\n",
       "          ohmS        lwi                    geol  flow  \n",
       "0  1666.165142  32.023585  VOLCANO-SEDIM. SCHISTS   2.5  \n",
       "1  1135.551531  21.406531                GRANITES   0.8  \n",
       "2   767.562500   0.000000                GRANITES   1.0  \n",
       "3   987.943553  28.709623                GRANITES   1.2  \n",
       "4   769.095833   2.300000        GEOSYN. GRANITES   1.5  "
      ]
     },
     "execution_count": 2,
     "metadata": {},
     "output_type": "execute_result"
    }
   ],
   "source": [
    "origin_df = pd.read_csv(\"main.bagciv.data_true.csv\")\n",
    "origin_df.head(5)"
   ]
  },
  {
   "cell_type": "code",
   "execution_count": 3,
   "metadata": {},
   "outputs": [
    {
     "data": {
      "text/html": [
       "<div>\n",
       "<style scoped>\n",
       "    .dataframe tbody tr th:only-of-type {\n",
       "        vertical-align: middle;\n",
       "    }\n",
       "\n",
       "    .dataframe tbody tr th {\n",
       "        vertical-align: top;\n",
       "    }\n",
       "\n",
       "    .dataframe thead th {\n",
       "        text-align: right;\n",
       "    }\n",
       "</style>\n",
       "<table border=\"1\" class=\"dataframe\">\n",
       "  <thead>\n",
       "    <tr style=\"text-align: right;\">\n",
       "      <th></th>\n",
       "      <th>power</th>\n",
       "      <th>magnitude</th>\n",
       "      <th>shape</th>\n",
       "      <th>type</th>\n",
       "      <th>sfi</th>\n",
       "      <th>ohmS</th>\n",
       "      <th>geol</th>\n",
       "      <th>flow</th>\n",
       "    </tr>\n",
       "    <tr>\n",
       "      <th>name</th>\n",
       "      <th></th>\n",
       "      <th></th>\n",
       "      <th></th>\n",
       "      <th></th>\n",
       "      <th></th>\n",
       "      <th></th>\n",
       "      <th></th>\n",
       "      <th></th>\n",
       "    </tr>\n",
       "  </thead>\n",
       "  <tbody>\n",
       "    <tr>\n",
       "      <th>b1</th>\n",
       "      <td>110</td>\n",
       "      <td>136</td>\n",
       "      <td>W</td>\n",
       "      <td>CP</td>\n",
       "      <td>0.388909</td>\n",
       "      <td>1666.165142</td>\n",
       "      <td>VOLCANO-SEDIM. SCHISTS</td>\n",
       "      <td>2.5</td>\n",
       "    </tr>\n",
       "    <tr>\n",
       "      <th>b2</th>\n",
       "      <td>70</td>\n",
       "      <td>142</td>\n",
       "      <td>V</td>\n",
       "      <td>EC</td>\n",
       "      <td>1.340127</td>\n",
       "      <td>1135.551531</td>\n",
       "      <td>GRANITES</td>\n",
       "      <td>0.8</td>\n",
       "    </tr>\n",
       "    <tr>\n",
       "      <th>b3</th>\n",
       "      <td>80</td>\n",
       "      <td>87</td>\n",
       "      <td>V</td>\n",
       "      <td>EC</td>\n",
       "      <td>0.446594</td>\n",
       "      <td>767.562500</td>\n",
       "      <td>GRANITES</td>\n",
       "      <td>1.0</td>\n",
       "    </tr>\n",
       "    <tr>\n",
       "      <th>b4</th>\n",
       "      <td>60</td>\n",
       "      <td>116</td>\n",
       "      <td>W</td>\n",
       "      <td>NC</td>\n",
       "      <td>0.763676</td>\n",
       "      <td>987.943553</td>\n",
       "      <td>GRANITES</td>\n",
       "      <td>1.2</td>\n",
       "    </tr>\n",
       "    <tr>\n",
       "      <th>b5</th>\n",
       "      <td>70</td>\n",
       "      <td>111</td>\n",
       "      <td>W</td>\n",
       "      <td>EC</td>\n",
       "      <td>0.068501</td>\n",
       "      <td>769.095833</td>\n",
       "      <td>GEOSYN. GRANITES</td>\n",
       "      <td>1.5</td>\n",
       "    </tr>\n",
       "  </tbody>\n",
       "</table>\n",
       "</div>"
      ],
      "text/plain": [
       "      power  magnitude shape type       sfi         ohmS  \\\n",
       "name                                                       \n",
       "b1      110        136     W   CP  0.388909  1666.165142   \n",
       "b2       70        142     V   EC  1.340127  1135.551531   \n",
       "b3       80         87     V   EC  0.446594   767.562500   \n",
       "b4       60        116     W   NC  0.763676   987.943553   \n",
       "b5       70        111     W   EC  0.068501   769.095833   \n",
       "\n",
       "                        geol  flow  \n",
       "name                                \n",
       "b1    VOLCANO-SEDIM. SCHISTS   2.5  \n",
       "b2                  GRANITES   0.8  \n",
       "b3                  GRANITES   1.0  \n",
       "b4                  GRANITES   1.2  \n",
       "b5          GEOSYN. GRANITES   1.5  "
      ]
     },
     "execution_count": 3,
     "metadata": {},
     "output_type": "execute_result"
    }
   ],
   "source": [
    "#  drop the features num , east, north, lwi and  and set index to name \n",
    "df0=origin_df.drop ([\"num\",\n",
    "                     \"east\",\n",
    "                     \"north\",\n",
    "                     \"lwi\"\n",
    "                     ], axis =1).set_index(\"name\")\n",
    "df0.head(5)"
   ]
  },
  {
   "cell_type": "code",
   "execution_count": 4,
   "metadata": {},
   "outputs": [
    {
     "data": {
      "text/html": [
       "<div>\n",
       "<style scoped>\n",
       "    .dataframe tbody tr th:only-of-type {\n",
       "        vertical-align: middle;\n",
       "    }\n",
       "\n",
       "    .dataframe tbody tr th {\n",
       "        vertical-align: top;\n",
       "    }\n",
       "\n",
       "    .dataframe thead th {\n",
       "        text-align: right;\n",
       "    }\n",
       "</style>\n",
       "<table border=\"1\" class=\"dataframe\">\n",
       "  <thead>\n",
       "    <tr style=\"text-align: right;\">\n",
       "      <th></th>\n",
       "      <th>shape</th>\n",
       "      <th>type</th>\n",
       "      <th>geol</th>\n",
       "      <th>power</th>\n",
       "      <th>magnitude</th>\n",
       "      <th>sfi</th>\n",
       "      <th>ohmS</th>\n",
       "      <th>flow</th>\n",
       "    </tr>\n",
       "    <tr>\n",
       "      <th>name</th>\n",
       "      <th></th>\n",
       "      <th></th>\n",
       "      <th></th>\n",
       "      <th></th>\n",
       "      <th></th>\n",
       "      <th></th>\n",
       "      <th></th>\n",
       "      <th></th>\n",
       "    </tr>\n",
       "  </thead>\n",
       "  <tbody>\n",
       "    <tr>\n",
       "      <th>b1</th>\n",
       "      <td>W</td>\n",
       "      <td>CP</td>\n",
       "      <td>VOLCANO-SEDIM. SCHISTS</td>\n",
       "      <td>110</td>\n",
       "      <td>136</td>\n",
       "      <td>0.388909</td>\n",
       "      <td>1666.165142</td>\n",
       "      <td>2.5</td>\n",
       "    </tr>\n",
       "    <tr>\n",
       "      <th>b2</th>\n",
       "      <td>V</td>\n",
       "      <td>EC</td>\n",
       "      <td>GRANITES</td>\n",
       "      <td>70</td>\n",
       "      <td>142</td>\n",
       "      <td>1.340127</td>\n",
       "      <td>1135.551531</td>\n",
       "      <td>0.8</td>\n",
       "    </tr>\n",
       "    <tr>\n",
       "      <th>b3</th>\n",
       "      <td>V</td>\n",
       "      <td>EC</td>\n",
       "      <td>GRANITES</td>\n",
       "      <td>80</td>\n",
       "      <td>87</td>\n",
       "      <td>0.446594</td>\n",
       "      <td>767.562500</td>\n",
       "      <td>1.0</td>\n",
       "    </tr>\n",
       "    <tr>\n",
       "      <th>b4</th>\n",
       "      <td>W</td>\n",
       "      <td>NC</td>\n",
       "      <td>GRANITES</td>\n",
       "      <td>60</td>\n",
       "      <td>116</td>\n",
       "      <td>0.763676</td>\n",
       "      <td>987.943553</td>\n",
       "      <td>1.2</td>\n",
       "    </tr>\n",
       "    <tr>\n",
       "      <th>b5</th>\n",
       "      <td>W</td>\n",
       "      <td>EC</td>\n",
       "      <td>GEOSYN. GRANITES</td>\n",
       "      <td>70</td>\n",
       "      <td>111</td>\n",
       "      <td>0.068501</td>\n",
       "      <td>769.095833</td>\n",
       "      <td>1.5</td>\n",
       "    </tr>\n",
       "  </tbody>\n",
       "</table>\n",
       "</div>"
      ],
      "text/plain": [
       "     shape type                    geol  power  magnitude       sfi  \\\n",
       "name                                                                  \n",
       "b1       W   CP  VOLCANO-SEDIM. SCHISTS    110        136  0.388909   \n",
       "b2       V   EC                GRANITES     70        142  1.340127   \n",
       "b3       V   EC                GRANITES     80         87  0.446594   \n",
       "b4       W   NC                GRANITES     60        116  0.763676   \n",
       "b5       W   EC        GEOSYN. GRANITES     70        111  0.068501   \n",
       "\n",
       "             ohmS  flow  \n",
       "name                     \n",
       "b1    1666.165142   2.5  \n",
       "b2    1135.551531   0.8  \n",
       "b3     767.562500   1.0  \n",
       "b4     987.943553   1.2  \n",
       "b5     769.095833   1.5  "
      ]
     },
     "execution_count": 4,
     "metadata": {},
     "output_type": "execute_result"
    }
   ],
   "source": [
    "colums_order =[\"shape\", \"type\", \"geol\", \"power\", \"magnitude\", \"sfi\", \"ohmS\", \"flow\"]\n",
    "df_order= df0[colums_order]\n",
    "df_order.head(5)"
   ]
  },
  {
   "cell_type": "code",
   "execution_count": 5,
   "metadata": {},
   "outputs": [
    {
     "data": {
      "image/png": "[encoded data removed]",
      "text/plain": [
       "<Figure size 576x396 with 1 Axes>"
      ]
     },
     "metadata": {},
     "output_type": "display_data"
    }
   ],
   "source": [
    "# counter the categorical data \n",
    "cat_columns =[\"shape\", \"type\", \"geol\"]\n",
    "dfs = df_order[\"shape\"].value_counts (normalize=True)\n",
    "dft =df_order[\"type\"].value_counts (normalize=True)\n",
    "dfg = df_order[\"geol\"].value_counts (normalize=True)\n",
    "\n",
    "#for df in [dfs, dft, dfg]: \n",
    "#    plt.bar (df.index, df)\n",
    "\n",
    "j =0\n",
    "for i in  range(len(dfs)): \n",
    "    plt.bar (dfs.index[i], dfs.values[i]+ j, bottom = dfs.values[i]+ j)\n",
    "    j = dfs.values[i] \n",
    "\n"
   ]
  },
  {
   "cell_type": "code",
   "execution_count": 6,
   "metadata": {},
   "outputs": [],
   "source": [
    "#Vectorisation of features shape, type, geol, and y \n",
    "\n",
    "def flowMapping (value): \n",
    "    if value == 0. : \n",
    "        return 0  #FR0\n",
    "    elif  0 < value <=1:\n",
    "        return 1 #FR1\n",
    "    elif 1 < value <=3:\n",
    "        return 2  # FR2\n",
    "    else : return 3  #FR3\n",
    "def binMapping (value): \n",
    "    return 0 if value <=1 else 1 \n",
    "\n",
    "geomap = {\"VOLCANO-SEDIM. SCHISTS\":1, \n",
    "          \"GRANITES\":3, \n",
    "          \"GEOSYN. GRANITES\":2, \n",
    "          \"GNEISS-MIGMATITES\":4\n",
    "          }\n",
    "mapshape ={\"W\":1, \n",
    "          \"U\":2, \n",
    "          \"V\":3, \n",
    "          \"H\":4, \n",
    "          \"K\":5, \n",
    "          \"C\":6, \n",
    "          \"M\":7}\n",
    "\n",
    "maptype ={\"EC\":1, \n",
    "          \"NC\":2, \n",
    "          \"CP\":3, \n",
    "          \"CB2P\":4\n",
    "}\n",
    "def geolMapping(value): \n",
    "    if value ==\"VOLCANO-SEDIM. SCHISTS\": \n",
    "        return \"VOLCS.\"\n",
    "    elif value ==\"GRANITES\": \n",
    "        return \"GRAN.\"\n",
    "    elif value ==\"GEOSYN. GRANITES\": \n",
    "        return \"GEOG.\"\n",
    "    elif value ==\"GNEISS-MIGMATITES\":\n",
    "        return \"MIGG.\"\n",
    "    \n",
    "# df_order.geol = df_order[\"geol\"].apply (geolMapping)\n",
    "df_order.flow=df_order[\"flow\"].apply (flowMapping)\n",
    "df_order.geol = df_order[\"geol\"].map(geomap)\n",
    "df_order[\"shape\"]=df_order[\"shape\"].map(mapshape)\n",
    "df_order.type= df_order.type.map(maptype)\n",
    "df_binary=df_order.copy()\n",
    "df_binary.flow = df_binary.flow.apply(binMapping)\n",
    "\n",
    "#df_order.describe()\n"
   ]
  },
  {
   "cell_type": "code",
   "execution_count": 7,
   "metadata": {},
   "outputs": [],
   "source": [
    "# separate two datasets , multiclassification and binary \n",
    "\n",
    "dfm = df_order.copy() # multiclassification \n",
    "dfb = df_binary.copy() # binary classification \n",
    "\n"
   ]
  },
  {
   "cell_type": "code",
   "execution_count": 8,
   "metadata": {},
   "outputs": [],
   "source": [
    "#ax= msno.matrix (dfm.drop(columns=\"flow\"))\n",
    "#ax.get_figure().savefig(\"images/mplr_001.png\")"
   ]
  },
  {
   "cell_type": "code",
   "execution_count": 9,
   "metadata": {},
   "outputs": [],
   "source": [
    "#ax= msno.bar (dfm.drop (columns=\"flow\"))\n",
    "#ax.get_figure().savefig(\"images/mplr_002.png\")"
   ]
  },
  {
   "cell_type": "code",
   "execution_count": 10,
   "metadata": {},
   "outputs": [],
   "source": [
    "# targets \n",
    "y = dfm.flow \n",
    "yb = dfb.flow \n",
    "\n",
    "X = dfm.drop (columns= \"flow\") \n",
    "Xb = dfb.drop(columns=\"flow\")\n"
   ]
  },
  {
   "cell_type": "code",
   "execution_count": 11,
   "metadata": {},
   "outputs": [],
   "source": [
    "# imput the data \n",
    "imp_obj = SimpleImputer (strategy =\"median\")\n",
    "X_imp = imp_obj.fit_transform (X)\n",
    "X_imputed =pd.DataFrame (data=X_imp, columns= X.columns)\n"
   ]
  },
  {
   "cell_type": "code",
   "execution_count": 12,
   "metadata": {},
   "outputs": [
    {
     "data": {
      "text/plain": [
       "(431, 7)"
      ]
     },
     "execution_count": 12,
     "metadata": {},
     "output_type": "execute_result"
    }
   ],
   "source": [
    "# Scaled the numerical data \n",
    "num_columns =[\"power\", \"magnitude\", \"sfi\", \"ohmS\"]\n",
    "X_num_imputed= X_imputed[num_columns]\n",
    "scaler_obj = StandardScaler () \n",
    "X_num_scaled = scaler_obj. fit_transform(X_num_imputed)\n",
    "#X_cat_imputed= X_imputed[cat_columns]\n",
    "# concat the \n",
    "X = np.c_[dfm[cat_columns].values, X_num_scaled]\n",
    "X= pd.DataFrame (data=X, columns= dfm.drop(columns=\"flow\").columns)\n",
    "X.head(5)\n",
    "X_for_validation = X.copy ()\n",
    "\n",
    "X_for_validation.set_index(y.index)\n",
    "X.shape"
   ]
  },
  {
   "cell_type": "code",
   "execution_count": 13,
   "metadata": {},
   "outputs": [
    {
     "data": {
      "text/plain": [
       "(431, 14)"
      ]
     },
     "execution_count": 13,
     "metadata": {},
     "output_type": "execute_result"
    }
   ],
   "source": [
    "# One Hot encoded categorical features \n",
    "\n",
    "ohe_obj = OneHotEncoder(categories =\"auto\", drop=\"first\")\n",
    "c_transf = ColumnTransformer([ \n",
    "                              (\"ohe\",ohe_obj , [0, 1, 2] ), \n",
    "                              (\"nothing\", \"passthrough\", [3, 4, 5, 6])\n",
    "                              ])\n",
    "Xohe=c_transf.fit_transform(X).astype(float)\n",
    "Xohe.shape\n",
    "\n"
   ]
  },
  {
   "cell_type": "code",
   "execution_count": 14,
   "metadata": {},
   "outputs": [
    {
     "data": {
      "text/plain": [
       "(431, 14)"
      ]
     },
     "execution_count": 14,
     "metadata": {},
     "output_type": "execute_result"
    }
   ],
   "source": [
    "# RECAP\n",
    "X = Xohe.copy()\n",
    "X, y # Dataset for mutiple classification task \n",
    "X, yb #Dataset for binary classification task \n",
    "#check the fist row of data \n",
    "X.shape"
   ]
  },
  {
   "cell_type": "code",
   "execution_count": 15,
   "metadata": {},
   "outputs": [],
   "source": [
    "# control class valance \n",
    "# fig , ax = plt.subplots(figsize=(6, 6))\n",
    "# cb_viz= ClassBalance (labels =[0, 1, 2, 3])\n",
    "# cb_viz.fit(y)\n",
    "# cb_viz.poof()\n",
    "#fig.savefig(\"images/mplr_003.png\", dpi =300)\n",
    "\n",
    "\n",
    "# binaryy \n",
    "\n",
    "# fig , ax = plt.subplots(figsize=(6, 6))\n",
    "# cb_bin= ClassBalance (labels =[0, 1])\n",
    "# cb_bin.fit(yb)\n",
    "# cb_bin.poof()\n",
    "#fig.savefig(\"images/mplr_004.png\", dpi =300)"
   ]
  },
  {
   "cell_type": "code",
   "execution_count": 16,
   "metadata": {},
   "outputs": [
    {
     "data": {
      "text/plain": [
       "(2    0.357309\n",
       " 1    0.354988\n",
       " 3    0.146172\n",
       " 0    0.141531\n",
       " Name: flow, dtype: float64,\n",
       " 1    0.50348\n",
       " 0    0.49652\n",
       " Name: flow, dtype: float64)"
      ]
     },
     "execution_count": 16,
     "metadata": {},
     "output_type": "execute_result"
    }
   ],
   "source": [
    "ycount = y.value_counts(normalize =True)\n",
    "ybcount =yb.value_counts(normalize =True)\n",
    "ycount , ybcount "
   ]
  },
  {
   "cell_type": "code",
   "execution_count": 17,
   "metadata": {},
   "outputs": [
    {
     "data": {
      "text/plain": [
       "((344, 14), (87, 14), (344,), (87,))"
      ]
     },
     "execution_count": 17,
     "metadata": {},
     "output_type": "execute_result"
    }
   ],
   "source": [
    "# stratified sampling \n",
    "# multiclassification \n",
    "\n",
    "_, _, y_trainno, y_testno=train_test_split (X, y , test_size = 0.2, random_state= 42)\n",
    "X_train, X_test , y_train, y_test = train_test_split (X, y , test_size = 0.2, random_state= 42, stratify = y)\n",
    "\n",
    "X_train.shape, X_test.shape , y_train.shape, y_test.shape"
   ]
  },
  {
   "cell_type": "code",
   "execution_count": 18,
   "metadata": {},
   "outputs": [],
   "source": [
    "# finction to plot class balances \n",
    "def plotClassBalances (y, labels, savefig): \n",
    "    fig , ax = plt.subplots(figsize=(6, 6))\n",
    "    cb_bin= ClassBalance (labels =labels)\n",
    "    cb_bin.fit(y)\n",
    "    cb_bin.poof()\n",
    "    fig.savefig(savefig, dpi =300)\n",
    "    "
   ]
  },
  {
   "cell_type": "code",
   "execution_count": 19,
   "metadata": {},
   "outputs": [],
   "source": [
    "# plot ytrain, y test balances \n",
    "#for ii, yy in enumerate([y_train, y_test]): \n",
    "#    plotClassBalances(yy, labels =[0, 1, 2, 3],savefig= f\"images/mplr_000z{ii}\")\n",
    "#for ii, yy in enumerate([y_trainno, y_testno]): \n",
    "#    plotClassBalances(yy, labels =[0, 1, 2, 3],savefig= f\"images/mplr_000no{ii}\")\n",
    "    "
   ]
  },
  {
   "cell_type": "code",
   "execution_count": 20,
   "metadata": {},
   "outputs": [
    {
     "data": {
      "text/plain": [
       "((344, 14), (87, 14), (344,), (87,))"
      ]
     },
     "execution_count": 20,
     "metadata": {},
     "output_type": "execute_result"
    }
   ],
   "source": [
    "#Binarry \n",
    "Xbtraino, Xb_testno, yb_trainno, yb_testno=train_test_split (X, yb , test_size = 0.2, random_state= 42)\n",
    "Xb_train, Xb_test , yb_train, yb_test = train_test_split (X, yb , test_size = 0.2, random_state= 42, stratify = yb)\n",
    "\n",
    "Xb_train.shape, Xb_test.shape , yb_train.shape, yb_test.shape\n",
    "# plot ytrain, y test balances \n",
    "#for ii, yy in enumerate([yb_train, yb_test]): \n",
    "#    plotClassBalances(yy, labels =[0, 1],savefig= f\"images/mplr_000b{ii}\")\n",
    "#for ii, yy in enumerate([yb_trainno, yb_testno]): \n",
    "#    plotClassBalances(yy, labels =[0, 1],savefig= f\"images/mplr_000bno{ii}\")\n",
    "    "
   ]
  },
  {
   "cell_type": "code",
   "execution_count": 21,
   "metadata": {},
   "outputs": [
    {
     "data": {
      "text/plain": [
       "(431,)"
      ]
     },
     "execution_count": 21,
     "metadata": {},
     "output_type": "execute_result"
    }
   ],
   "source": [
    "#RECAP\n",
    "#multiclassification  Database \n",
    "X_train , y_train , X_test, y_test \n",
    "# binary classifier \n",
    "Xb_train, yb_train, Xb_test, yb_test \n",
    "yb.shape"
   ]
  },
  {
   "cell_type": "code",
   "execution_count": 22,
   "metadata": {},
   "outputs": [
    {
     "data": {
      "text/plain": [
       "0.3563218390804598"
      ]
     },
     "execution_count": 22,
     "metadata": {},
     "output_type": "execute_result"
    }
   ],
   "source": [
    "# TQUick test with dumy classifier  Baseline Model \n",
    "bm = DummyClassifier(random_state=42)\n",
    "bm.fit(X_train, y_train)\n",
    "bm.score (X_test, y_test) \n",
    "\n",
    "\n"
   ]
  },
  {
   "cell_type": "code",
   "execution_count": 23,
   "metadata": {},
   "outputs": [
    {
     "data": {
      "text/plain": [
       "0.5057471264367817"
      ]
     },
     "execution_count": 23,
     "metadata": {},
     "output_type": "execute_result"
    }
   ],
   "source": [
    "# dumy classifier with Binary \n",
    "bmb = DummyClassifier(random_state=42)\n",
    "bmb.fit(Xb_train, yb_train)\n",
    "bmb.score (Xb_test, yb_test) "
   ]
  },
  {
   "cell_type": "code",
   "execution_count": 24,
   "metadata": {},
   "outputs": [],
   "source": [
    "#Draw the box plots of class labels with no stratified and classified folds \n",
    "from sklearn.model_selection import KFold, StratifiedKFold \n",
    "from seaborn import boxplot \n",
    "cv=4\n"
   ]
  },
  {
   "cell_type": "code",
   "execution_count": 25,
   "metadata": {},
   "outputs": [
    {
     "name": "stdout",
     "output_type": "stream",
     "text": [
      "(431, 7)\n"
     ]
    }
   ],
   "source": [
    "print(X_for_validation.shape)\n",
    "Xtrainfv , Xtestfv , ytrainfv , ytestfv = train_test_split (\n",
    "    X_for_validation.reset_index(drop =True), y.reset_index (drop =True), test_size =0.2, random_state = 42)\n",
    "\n",
    "kf =KFold (n_splits=cv, random_state= 42, shuffle=True)   "
   ]
  },
  {
   "cell_type": "code",
   "execution_count": 26,
   "metadata": {},
   "outputs": [],
   "source": [
    "\n",
    "# print(Xtrainfv.set_index (ytrainfv.index))\n",
    "# print( ytrainfv.index )\n",
    "num_val_samples = len(Xtrainfv)//cv \n",
    "train_data = Xtrainfv.copy().values \n",
    "train_targets = ytrainfv.copy().values \n",
    "\n",
    "def boxPlotFold (cv , trainset , traintarget, samples, savefig, plottrain=True, viz =True ):\n",
    "    for i in range (cv): \n",
    "        val_data = trainset [i * samples: (i+1) * samples]\n",
    "        val_targets = traintarget [i * samples: (i+1) * samples]\n",
    "        partial_train_data = np.concatenate(\n",
    "            [trainset[:i * samples ], \n",
    "            trainset[(i+1) * samples:]], \n",
    "            axis =0\n",
    "        )\n",
    "        \n",
    "        if viz:\n",
    "            fig, ax = plt.subplots (figsize =(8, 6))\n",
    "            \n",
    "            if plottrain:\n",
    "                boxplot( data =val_data )\n",
    "            if not plottrain:\n",
    "                boxplot( data =val_targets )\n",
    "            \n",
    "            if savefig is not None: \n",
    "                fig.savefig(savefig +f\"{i+1}.png\", dpi =300)\n",
    "\n",
    "#     Xtrain, Xtest =Xtrainfv[train_index] , Xtrainfv[test_index]\n",
    "#     ytrain, ytest = ytrainfv[train_index] , ytrainfv[test_index]\n",
    "    \n",
    "    # data = pd.DataFrame (\n",
    "    #     data =Xtrain,  columns=[f\"num{i}\" for i in range (Xtrain.shape[1])]).set_index (\n",
    "    #         ytrain.index )\n",
    "    # data =pd.merge(data, ytrain, on =\"name\", how =\"outer\")\n",
    "    # print(data.head(5))\n",
    "    #print(pd.merge ([data , ytrain.reset_index (drop=True )], how =\"outer\").head(5))\n",
    "    #fig, ax = plt.subplots (figsize =(8, 6))\n",
    "    #sns.boxplot( data =Xtrain )\n"
   ]
  },
  {
   "cell_type": "code",
   "execution_count": 27,
   "metadata": {},
   "outputs": [],
   "source": [
    "#STRATIFIED Fold \n",
    "Xtrainfv , Xtestfv , ybtrainfv , ybtestfv = train_test_split (\n",
    "    X_for_validation.reset_index(drop =True), yb.reset_index (drop =True), test_size =0.2, random_state = 42, stratify = y)\n",
    "\n",
    "num_val_samples = len(Xtrainfv)//cv \n",
    "train_data = Xtrainfv.copy().values \n",
    "train_targets = ybtrainfv.copy().values \n",
    "\n",
    "boxPlotFold (cv=4 , trainset=train_data ,\n",
    "            traintarget = train_targets, \n",
    "            samples= num_val_samples, \n",
    "            savefig=\"images/StratifiedFromY\",\n",
    "            plottrain=False, \n",
    "            viz=False)\n",
    "boxplot"
   ]
  },
  {
   "cell_type": "code",
   "execution_count": 28,
   "metadata": {},
   "outputs": [],
   "source": [
    "# stratified kfold index \n",
    "# mutilcalss\n",
    "cv_index= StratifiedKFold(n_splits =4)\n",
    "cv2_index = KFold(n_splits=4, random_state =42 , shuffle =True)"
   ]
  },
  {
   "cell_type": "markdown",
   "metadata": {},
   "source": [
    "### Multiclassification"
   ]
  },
  {
   "cell_type": "code",
   "execution_count": 29,
   "metadata": {},
   "outputs": [],
   "source": [
    "\n",
    "cv = list(cv_index.split(X_train, y_train))\n",
    "cv2 = list(cv2_index.split(X_train, y_train))\n",
    "\n",
    "# for k, (train_index , test_index) in enumerate (cv2 ): \n",
    "    # fig, ax = plt.subplots (figsize =(8, 6))\n",
    "    # sns.boxplot (data = X_train[train_index])\n",
    "    # fig.savefig(f\"images/wfoldnotrat{k+1}.png\", dpi =300)\n",
    "\n"
   ]
  },
  {
   "cell_type": "code",
   "execution_count": 30,
   "metadata": {},
   "outputs": [],
   "source": [
    "# create a SVM0 \n"
   ]
  },
  {
   "cell_type": "code",
   "execution_count": 43,
   "metadata": {},
   "outputs": [
    {
     "data": {
      "text/plain": [
       "(array([0.36046512, 0.36046512, 0.36046512, 0.62790698, 0.73837209,\n",
       "        0.76744186]),\n",
       " array([0.48809524, 0.48809524, 0.48809524, 0.48809524, 0.72186147,\n",
       "        0.72077922]))"
      ]
     },
     "execution_count": 43,
     "metadata": {},
     "output_type": "execute_result"
    },
    {
     "data": {
      "image/png": "[encoded data removed]",
      "text/plain": [
       "<Figure size 576x432 with 1 Axes>"
      ]
     },
     "metadata": {},
     "output_type": "display_data"
    }
   ],
   "source": [
    "\n",
    "svm0 = SVC()\n",
    "k_range_paramC = np.power(10 , np.arange(-4, 1.5, dtype =float))\n",
    "k1 = len(X_train)//4\n",
    "Xsample = X_train [:k1, :]\n",
    "ysample = y_train[:k1]\n",
    "\n",
    "\n",
    "train_score1 , val_score1 = validation_curve(svm0, Xsample, ysample, \n",
    "                                         param_name =\"C\", param_range=k_range_paramC,\n",
    "                                         cv=4)\n",
    "train_score , val_score = validation_curve(svm0, X_train, y_train, \n",
    "                                         param_name =\"C\", param_range=k_range_paramC,\n",
    "                                         cv=4)\n",
    "fig, ax = plt.subplots (figsize =(8, 6))\n",
    "ax.plot(k_range_paramC, np.mean(train_score, 1), color =\"blue\", label =\"train score\")\n",
    "ax.plot(k_range_paramC, np.mean(val_score, 1), color =\"r\", label =\"validation score\")\n",
    "ax.plot(k_range_paramC, np.mean(train_score1, 1), color =\"blue\", label =\"train score Fold1\", alpha =0.3, linestyle =\"--\")\n",
    "ax.plot(k_range_paramC, np.mean(val_score1, 1), color =\"r\", label =\"validation score Fold 1\", alpha =0.3, linestyle =\"--\")\n",
    "#ax.legend(loc=\"best\")\n",
    "ax.set_ylim(0, 1)\n",
    "ax.set_xlabel(\"C\")\n",
    "ax.set_ylabel(\"score\")\n",
    "\n",
    "\n",
    "# fig.savefig (\"images/valscoreFor1foldand4Fold.png\", dpi =300)\n",
    "\n",
    "np.median(val_score, 1), np.median(val_score1, 1)"
   ]
  },
  {
   "cell_type": "code",
   "execution_count": 46,
   "metadata": {},
   "outputs": [
    {
     "data": {
      "image/png": "[encoded data removed]",
      "text/plain": [
       "<Figure size 1152x432 with 3 Axes>"
      ]
     },
     "metadata": {},
     "output_type": "display_data"
    }
   ],
   "source": [
    "\n",
    "\n",
    "fig, ax = plt.subplots(1, 3, figsize =(16, 6))\n",
    "fig.subplots_adjust(left=0.0625, right = 0.95, wspace = 0.1)\n",
    "paramC_test =[0.5, 1, 1.5]\n",
    "for k, paramc in enumerate(paramC_test): \n",
    "    N, train_lc , val_lc = learning_curve(SVC(C=paramc), X_train, y_train, \n",
    "                                            train_sizes = np.linspace(0.1, 1, 50),\n",
    "                                            cv=cv)\n",
    "    ax[k].plot(N, np.mean(train_lc, 1), color =\"blue\", label =\"train score\")\n",
    "    ax[k].plot(N, np.mean(val_lc, 1), color =\"r\", label =\"validation score\")\n",
    "    ax[k].hlines(np.mean([train_lc[-1], val_lc[-1]]), N[0], N[-1], color=\"gray\", linestyle =\"--\")\n",
    "    ax[k].set_ylim(0.3, 1)\n",
    "    #ax[k].set_xlim (N[0], N[1])\n",
    "    ax[k].set_xlabel(\"training size\")\n",
    "    #ax[k].set_ylabel(\"score\")\n",
    "    ax[k].set_title('C = {0}'.format(paramc), size=14)\n",
    "    #ax[k].legend(loc=\"best\")\n",
    "    \n",
    "    fig.savefig (f\"learninfcurveSVM02_Ceq{paramc}.png\", dpi =300)\n",
    "    \n",
    "    \n",
    "\n",
    "    "
   ]
  },
  {
   "cell_type": "code",
   "execution_count": 33,
   "metadata": {},
   "outputs": [],
   "source": [
    "# Hyperparameters fine-tuning \n",
    "# kws_bases = {\n",
    "#     \"C\": np.power(2 , np.arange(-5, 9,2,  dtype =float)), \n",
    "#     \"gamma\":np.power(2, np.arange(-7, 5,2,  dtype =float)), \n",
    "#     \"tol\":np.power(10 , np.arange(-3, 4, 1,  dtype =float)), \n",
    "#     \"coef0\":np.arange(0, 8),\n",
    "#     \"degree\":np.arange(1, 5),\n",
    "# }\n",
    "\n",
    "kws_bases = {\n",
    "    \"C\": np.power(2 , np.arange(-7, 11,2,  dtype =float)), \n",
    "    \"gamma\":np.power(2, np.arange(-11, 9,2,  dtype =float)), \n",
    "    \"tol\":np.power(10 , np.arange(-3, 4, 1,  dtype =float)), \n",
    "    \"coef0\":np.arange(0, 8),\n",
    "    \"degree\":np.arange(1, 8),\n",
    "}\n",
    "\n",
    "def generateParams (kernels , params_kws=None): \n",
    "    args =[]\n",
    "    for kernel in kernels : \n",
    "        params_kws['kernel'] = [kernel]\n",
    "        paramgk= deepcopy (params_kws.copy())\n",
    "        args.append(paramgk)\n",
    "        del params_kws['kernel']\n",
    "    \n",
    "    return args \n",
    "param_grids= generateParams(kernels =['poly', 'linear', 'sigmoid', 'rbf'],\n",
    "params_kws=kws_bases )\n"
   ]
  },
  {
   "cell_type": "code",
   "execution_count": 34,
   "metadata": {},
   "outputs": [],
   "source": [
    "def gridSearchSVM (clf, X, y, *,  scoring ='accuracy', param_grid =None,\n",
    "                    cv =None, nestedcv =True): \n",
    "\n",
    "    gsobj = GridSearchCV (estimator =clf, \n",
    "                   param_grid=param_grid, \n",
    "                   scoring =scoring , \n",
    "                   cv =cv  , refit=True,\n",
    "                    n_jobs=-1)\n",
    "   \n",
    "    if nestedcv: \n",
    "        scores= cross_val_score(gsobj, X, y, scoring =scoring , cv =cv )\n",
    "        print(f'{param_grid [\"kernel\"][0]}: CV accuracy: %3.f +/- %3.f' %(np.mean(scores), np.std(scores)) )\n",
    "\n",
    "    gsobj = gsobj.fit(X, y)\n",
    "    return gsobj, scores if nestedcv else None\n",
    "\n",
    "                 "
   ]
  },
  {
   "cell_type": "code",
   "execution_count": 35,
   "metadata": {},
   "outputs": [],
   "source": [
    "# run all grid searches\n",
    "\n",
    "# gridObjs , gridScores ={}, {}\n",
    "# for param_grid , kernel in zip(param_grids, \n",
    "# ['poly', 'linear', 'sigmoid', 'rbf']): \n",
    "#     gs , scores= gridSearchSVM (SVC(), X=X_train, y=y_train, \n",
    "#      param_grid= param_grid ,\n",
    "#      cv =cv )\n",
    "#     print(f\" {kernel.capitalize()} - best score:\", gs.best_score_ ) \n",
    "#     print(f\"{kernel.capitalize()} - best params:\", gs.best_params_)\n",
    "#     gridObjs[kernel] = gs \n",
    "#     gridScores [kernel]=scores \n"
   ]
  },
  {
   "cell_type": "code",
   "execution_count": 36,
   "metadata": {},
   "outputs": [],
   "source": [
    "try :\n",
    "    import joblib \n",
    "except: pass \n",
    "\n",
    "import pickle \n",
    "\n",
    "# filename = '__svmmodels'\n",
    "# data = (gridObjs, gridScores)\n",
    "# try : \n",
    "#         joblib.dump(data, f'{filename}.pkl')\n",
    "# except : \n",
    "#     # Now try to pickle data Serializing data \n",
    "#     filename +='.pkl'\n",
    "#     with open(filename, 'wb') as wfile: \n",
    "#         pickle.dump( data, wfile)\n",
    "gridObjs, gridScores = joblib.load ('__svmmodels.pkl')"
   ]
  },
  {
   "cell_type": "code",
   "execution_count": 37,
   "metadata": {},
   "outputs": [
    {
     "data": {
      "text/plain": [
       "35280"
      ]
     },
     "execution_count": 37,
     "metadata": {},
     "output_type": "execute_result"
    }
   ],
   "source": [
    "len(gridObjs['sigmoid'].cv_results_['params'])"
   ]
  },
  {
   "cell_type": "code",
   "execution_count": 38,
   "metadata": {},
   "outputs": [],
   "source": [
    "CV0=4\n",
    "SVMLinear = gridObjs['linear']\n",
    "SVMpoly = gridObjs['poly']\n",
    "SVMrbf = gridObjs['rbf']\n",
    "SVMsigmoid = gridObjs['sigmoid']\n",
    "\n",
    "cvres_poly = SVMpoly.cv_results_\n",
    "cvres_linear= SVMLinear.cv_results_\n",
    "cvres_rbf= SVMrbf.cv_results_\n",
    "cvres_sigmoid= SVMsigmoid .cv_results_\n",
    "\n",
    "\n",
    "SVMs = [SVMLinear, SVMpoly , SVMrbf, SVMsigmoid ] \n",
    "SVMsCV_res =[cvres_linear, cvres_poly, cvres_rbf, cvres_sigmoid]\n",
    "\n",
    "kernels =['Linear', 'Polynomial', 'RBF', 'Sigmoid']\n",
    "\n"
   ]
  },
  {
   "cell_type": "code",
   "execution_count": 39,
   "metadata": {},
   "outputs": [],
   "source": [
    "\n",
    "def getGlobalScores(cvres): \n",
    "    \"\"\" Take the global mean score  and std  test score\"\"\"\n",
    "    return cvres['mean_test_score'].mean() , cvres['std_test_score'].mean()\n",
    "\n",
    "def getBestForEachSplit(cvres, split=1): \n",
    "    if split ==0: split =1 \n",
    "    split_score = cvres[f'split{split-1}_test_score'] # get the split score \n",
    "    # take the max score of the split \n",
    "    max_sc = split_score.max() \n",
    "    ix_max = split_score.argmax()\n",
    "    mean_score= split_score.mean()\n",
    "    # get parm and mean score \n",
    "    bests ={'param': cvres['params'][ix_max], \n",
    "        'accuracy_score':cvres['mean_test_score'][ix_max], \n",
    "        'std_score':cvres['std_test_score'][ix_max],\n",
    "        f\"CV{split}_score\": max_sc , \n",
    "        f\"CV{split}_mean_score\": mean_score,\n",
    "        }\n",
    "\n",
    "    return bests \n",
    "\n",
    "\n"
   ]
  },
  {
   "cell_type": "code",
   "execution_count": 40,
   "metadata": {},
   "outputs": [
    {
     "name": "stdout",
     "output_type": "stream",
     "text": [
      "Linear :\n",
      "split =CV1:\n",
      "{'param': {'C': 0.125, 'coef0': 0, 'degree': 1, 'gamma': 0.00048828125, 'kernel': 'linear', 'tol': 1.0}, 'accuracy_score': 0.7674418604651163, 'std_score': 0.03583961629633128, 'CV1_score': 0.8255813953488372, 'CV1_mean_score': 0.49095607235142125}\n",
      "split =CV2:\n",
      "{'param': {'C': 0.125, 'coef0': 0, 'degree': 1, 'gamma': 0.00048828125, 'kernel': 'linear', 'tol': 1.0}, 'accuracy_score': 0.7674418604651163, 'std_score': 0.03583961629633128, 'CV1_score': 0.8255813953488372, 'CV1_mean_score': 0.49095607235142125}\n",
      "split =CV3:\n",
      "{'param': {'C': 32.0, 'coef0': 0, 'degree': 1, 'gamma': 0.00048828125, 'kernel': 'linear', 'tol': 0.001}, 'accuracy_score': 0.7877906976744187, 'std_score': 0.0437980208526726, 'CV2_score': 0.813953488372093, 'CV2_mean_score': 0.47895902547065344}\n",
      "split =CV4:\n",
      "{'param': {'C': 32.0, 'coef0': 0, 'degree': 1, 'gamma': 0.00048828125, 'kernel': 'linear', 'tol': 0.001}, 'accuracy_score': 0.7877906976744187, 'std_score': 0.0437980208526726, 'CV3_score': 0.8372093023255814, 'CV3_mean_score': 0.49778516057585825}\n",
      "Global split scores:\n",
      "mean= 0.48375784422296036 std= 0.021038337221788855\n",
      "BestParams:  {'C': 8.0, 'coef0': 0, 'degree': 1, 'gamma': 0.00048828125, 'kernel': 'linear', 'tol': 1.0}\n",
      "Best scores: 0.7936046511627908\n",
      "\n",
      "Polynomial :\n",
      "split =CV1:\n",
      "{'param': {'C': 0.0078125, 'coef0': 1, 'degree': 3, 'gamma': 2.0, 'kernel': 'poly', 'tol': 0.1}, 'accuracy_score': 0.7732558139534883, 'std_score': 0.07096834660310296, 'CV1_score': 0.8953488372093024, 'CV1_mean_score': 0.4756927964984443}\n",
      "split =CV2:\n",
      "{'param': {'C': 0.0078125, 'coef0': 1, 'degree': 3, 'gamma': 2.0, 'kernel': 'poly', 'tol': 0.1}, 'accuracy_score': 0.7732558139534883, 'std_score': 0.07096834660310296, 'CV1_score': 0.8953488372093024, 'CV1_mean_score': 0.4756927964984443}\n",
      "split =CV3:\n",
      "{'param': {'C': 128.0, 'coef0': 5, 'degree': 1, 'gamma': 0.125, 'kernel': 'poly', 'tol': 1.0}, 'accuracy_score': 0.7994186046511628, 'std_score': 0.03427275035625461, 'CV2_score': 0.8488372093023255, 'CV2_mean_score': 0.4386950904392765}\n",
      "split =CV4:\n",
      "{'param': {'C': 0.5, 'coef0': 0, 'degree': 1, 'gamma': 128.0, 'kernel': 'poly', 'tol': 0.1}, 'accuracy_score': 0.7790697674418605, 'std_score': 0.039432151064681814, 'CV3_score': 0.8372093023255814, 'CV3_mean_score': 0.44636496071296744}\n",
      "Global split scores:\n",
      "mean= 0.45260194193956643 std= 0.02401852946562666\n",
      "BestParams:  {'C': 0.5, 'coef0': 2, 'degree': 4, 'gamma': 0.125, 'kernel': 'poly', 'tol': 0.1}\n",
      "Best scores: 0.811046511627907\n",
      "\n",
      "RBF :\n",
      "split =CV1:\n",
      "{'param': {'C': 128.0, 'coef0': 0, 'degree': 1, 'gamma': 0.03125, 'kernel': 'rbf', 'tol': 0.001}, 'accuracy_score': 0.7732558139534883, 'std_score': 0.05957529515092791, 'CV1_score': 0.872093023255814, 'CV1_mean_score': 0.3805094130675526}\n",
      "split =CV2:\n",
      "{'param': {'C': 128.0, 'coef0': 0, 'degree': 1, 'gamma': 0.03125, 'kernel': 'rbf', 'tol': 0.001}, 'accuracy_score': 0.7732558139534883, 'std_score': 0.05957529515092791, 'CV1_score': 0.872093023255814, 'CV1_mean_score': 0.3805094130675526}\n",
      "split =CV3:\n",
      "{'param': {'C': 512.0, 'coef0': 0, 'degree': 1, 'gamma': 0.001953125, 'kernel': 'rbf', 'tol': 0.1}, 'accuracy_score': 0.7703488372093024, 'std_score': 0.04605517301672925, 'CV2_score': 0.7790697674418605, 'CV2_mean_score': 0.35555555555555557}\n",
      "split =CV4:\n",
      "{'param': {'C': 512.0, 'coef0': 0, 'degree': 1, 'gamma': 0.00048828125, 'kernel': 'rbf', 'tol': 1.0}, 'accuracy_score': 0.7790697674418605, 'std_score': 0.024666515622786534, 'CV3_score': 0.8023255813953488, 'CV3_mean_score': 0.36232927279438903}\n",
      "Global split scores:\n",
      "mean= 0.36592377260981906 std= 0.02170624624272183\n",
      "BestParams:  {'C': 512.0, 'coef0': 0, 'degree': 1, 'gamma': 0.0078125, 'kernel': 'rbf', 'tol': 1.0}\n",
      "Best scores: 0.7877906976744187\n",
      "\n",
      "Sigmoid :\n",
      "split =CV1:\n",
      "{'param': {'C': 128.0, 'coef0': 0, 'degree': 1, 'gamma': 0.001953125, 'kernel': 'sigmoid', 'tol': 1.0}, 'accuracy_score': 0.7877906976744186, 'std_score': 0.050934347290509406, 'CV1_score': 0.8604651162790697, 'CV1_mean_score': 0.287922203765227}\n",
      "split =CV2:\n",
      "{'param': {'C': 128.0, 'coef0': 0, 'degree': 1, 'gamma': 0.001953125, 'kernel': 'sigmoid', 'tol': 1.0}, 'accuracy_score': 0.7877906976744186, 'std_score': 0.050934347290509406, 'CV1_score': 0.8604651162790697, 'CV1_mean_score': 0.287922203765227}\n",
      "split =CV3:\n",
      "{'param': {'C': 512.0, 'coef0': 0, 'degree': 1, 'gamma': 0.0078125, 'kernel': 'sigmoid', 'tol': 0.001}, 'accuracy_score': 0.7790697674418604, 'std_score': 0.03943215106468181, 'CV2_score': 0.8023255813953488, 'CV2_mean_score': 0.28268733850129196}\n",
      "split =CV4:\n",
      "{'param': {'C': 0.5, 'coef0': 0, 'degree': 1, 'gamma': 0.125, 'kernel': 'sigmoid', 'tol': 1.0}, 'accuracy_score': 0.7499999999999999, 'std_score': 0.06069945644715435, 'CV3_score': 0.8488372093023255, 'CV3_mean_score': 0.29113141380583246}\n",
      "Global split scores:\n",
      "mean= 0.28930936231081583 std= 0.02441515051061538\n",
      "BestParams:  {'C': 128.0, 'coef0': 0, 'degree': 1, 'gamma': 0.001953125, 'kernel': 'sigmoid', 'tol': 1.0}\n",
      "Best scores: 0.7877906976744186\n",
      "\n"
     ]
    }
   ],
   "source": [
    "def vizSVModelDetailsMax(cvres ):\n",
    "    for k in range(CV0):\n",
    "        print(f'split =CV{k+1}:')\n",
    "        b= getBestForEachSplit(cvres, split =k)\n",
    "        print( b)\n",
    "\n",
    "    globalmeansc , globalstdsc= getGlobalScores(cvres)\n",
    "    print(\"Global split scores:\")\n",
    "    print('mean=', globalmeansc , 'std=',globalstdsc)\n",
    "\n",
    "for kern,  mdetail, model in zip(kernels, SVMsCV_res, SVMs): \n",
    "    print(kern, ':')\n",
    "    vizSVModelDetailsMax(cvres=mdetail)\n",
    "    print('BestParams: ', model.best_params_)\n",
    "    print(\"Best scores:\", model.best_score_)\n",
    "    print()\n",
    "    "
   ]
  },
  {
   "cell_type": "code",
   "execution_count": 41,
   "metadata": {},
   "outputs": [
    {
     "data": {
      "text/plain": [
       "['kernel = linear, C = 8.0, tol = 1.0',\n",
       " 'kernel = poly, C = 0.5, tol = 0.1, gamma = 0.125, degree = 4, coef0 = 2',\n",
       " 'kernel = rbf, C = 512.0, tol = 1.0, gamma = 0.0078',\n",
       " 'kernel = sigmoid, C = 128.0, tol = 1.0, gamma = 0.002, coef0 = 0']"
      ]
     },
     "execution_count": 41,
     "metadata": {},
     "output_type": "execute_result"
    }
   ],
   "source": [
    "SVMs = [SVMLinear, SVMpoly , SVMrbf, SVMsigmoid ] \n",
    "\n",
    "paramC_test = [ model.best_params_['C'] for model in SVMs ]\n",
    "paramC_test\n",
    "hparamLinear =['kernel', 'C', 'tol', ]\n",
    "hparamPoly =['kernel', 'C', 'tol', 'gamma', 'degree', 'coef0']\n",
    "hparamrbf =['kernel', 'C', 'tol', 'gamma']\n",
    "hparamsigmoid =['kernel', 'C', 'tol', 'gamma',  'coef0']\n",
    "StrParamsList = [hparamLinear , hparamPoly, hparamrbf, hparamsigmoid  ]\n",
    "temp0=list()\n",
    "makeParamsStrings =list()\n",
    "for pstrl, model in zip(StrParamsList  , SVMs ): \n",
    "    for k in pstrl: \n",
    "        for key , values in model.best_params_.items(): \n",
    "            if key ==k :\n",
    "                try :\n",
    "                    temp0.append(f'{k} = {round(values, 4)}') \n",
    "                except: \n",
    "                    temp0.append(f'{k} = {values}') \n",
    "    makeParamsStrings .append(', '.join(temp0) )\n",
    "    temp0=[]\n",
    "    #fig.savefig (f\"images/learninfcurveSVM0_Ceq{paramc}.png\", dpi =300)\n",
    "makeParamsStrings "
   ]
  },
  {
   "cell_type": "code",
   "execution_count": 47,
   "metadata": {},
   "outputs": [
    {
     "data": {
      "image/png": "[encoded data removed]",
      "text/plain": [
       "<Figure size 1584x432 with 4 Axes>"
      ]
     },
     "metadata": {},
     "output_type": "display_data"
    }
   ],
   "source": [
    "fig, ax = plt.subplots(1, 4, figsize =(22, 6))\n",
    "fig.subplots_adjust(left=0.0625, right = 0.95, wspace = 0.1)\n",
    "paramC_test =[0.5, 1, 1.5]\n",
    "\n",
    "for k, (model, parmL) in enumerate(zip(SVMs, makeParamsStrings)): \n",
    "    N, train_lc , val_lc = learning_curve(SVC(**model.best_params_), X_train, y_train, \n",
    "                                            train_sizes = np.linspace(0.1, 1, 50),\n",
    "                                            cv=cv)\n",
    "    ax[k].plot(N, np.mean(train_lc, 1), color =\"blue\", label =\"train score\")\n",
    "    ax[k].plot(N, np.mean(val_lc, 1), color =\"r\", label =\"validation score\")\n",
    "    ax[k].hlines(np.mean([train_lc[-1], val_lc[-1]]), N[0], N[-1], color=\"gray\", linestyle =\"--\")\n",
    "    ax[k].set_ylim(0.3, 1)\n",
    "    #ax[k].set_xlim (N[0], N[1])\n",
    "    ax[k].set_xlabel(\"training size\")\n",
    "    #ax[k].set_ylabel(\"score\")\n",
    "    ax[k].set_title(parmL, size=14)\n",
    "    #ax[k].legend(loc=\"lower left\")"
   ]
  },
  {
   "cell_type": "markdown",
   "metadata": {},
   "source": [
    "## Error evaluation "
   ]
  },
  {
   "cell_type": "code",
   "execution_count": 48,
   "metadata": {},
   "outputs": [],
   "source": [
    "from sklearn.metrics import (confusion_matrix, accuracy_score, f1_score, \n",
    "                            roc_auc_score, precision_score, recall_score) \n",
    "from yellowbrick.classifier import (ROCAUC, PrecisionRecallCurve , ClassPredictionError ,\n",
    "                         ConfusionMatrix , ClassificationReport)\n"
   ]
  },
  {
   "cell_type": "code",
   "execution_count": 71,
   "metadata": {},
   "outputs": [],
   "source": [
    "mappingc ={0:'FR0', 1:'FR1', 2:\"FR2\", 3:\"FR3\"}\n",
    "classes =['FR0', 'FR1', \"FR2\", \"FR3\"]\n",
    "# quick metrics \n",
    "def accuracyScore (ytrue, ypred): \n",
    "    return accuracy_score (ytrue, ypred)\n",
    "\n",
    "# Useful functions \n",
    "def predictTestSet (model, X): \n",
    "    ypred = model.predict(X)\n",
    "    return ypred \n",
    "\n",
    "def visualizeCfxFromSklearn (ytrue, ypred, plot =True, ax=None ): \n",
    "    mat= confusion_matrix (ytrue, ypred)\n",
    "    if plot: \n",
    "        sns.heatmap (mat.T, square =True, annot =True,  fmt='d', cbar=False, ax=ax)\n",
    "        #xticklabels= list(np.unique(ytrue.values)), yticklabels= list(np.unique(ytrue.values)))\n",
    "        ax.set_xlabel('true labels')\n",
    "        #ax.set_ylabel ('predicted label')\n",
    "    return mat \n",
    "    \n",
    "def visualizeCfxFromYellowbrick (model, XTest, yTest, savefig =None, \n",
    "            figsize =(6, 6), labels =classes , label_encoder = mappingc ): \n",
    "    fig, ax = plt.subplots(figsize = figsize )\n",
    "    cm_viz= ConfusionMatrix (model, \n",
    "                            classes=labels, \n",
    "                        label_encoder = label_encoder, \n",
    "                         )\n",
    "    cm_viz.score(XTest, yTest)\n",
    "    cm_viz.poof()\n",
    "\n",
    "    if savefig is not None: \n",
    "        fig.savefig(savefig, dpi =300)\n",
    "    return cm_viz \n",
    "\n",
    "def classPredictorError(model, XTest, yTest, savefig =None, \n",
    "            figsize =(6, 6), labels =classes ): \n",
    "    cpe_viz = ClassPredictionError(model, classes =labels)\n",
    "    cpe_viz .score(XTest, yTest)\n",
    "    cpe_viz .poof()\n",
    "    if savefig is not None: \n",
    "        fig.savefig(savefig, dpi =300)\n",
    "    return ax\n"
   ]
  },
  {
   "cell_type": "code",
   "execution_count": 72,
   "metadata": {},
   "outputs": [
    {
     "name": "stdout",
     "output_type": "stream",
     "text": [
      "Linear : accuracy -score =  0.7816091954022989\n",
      "Polynomial : accuracy -score =  0.8160919540229885\n",
      "RBF : accuracy -score =  0.7931034482758621\n",
      "Sigmoid : accuracy -score =  0.7701149425287356\n"
     ]
    },
    {
     "data": {
      "image/png": "[encoded data removed]",
      "text/plain": [
       "<Figure size 1584x432 with 4 Axes>"
      ]
     },
     "metadata": {},
     "output_type": "display_data"
    }
   ],
   "source": [
    "#SVMs = [SVMLinear, SVMpoly , SVMrbf, SVMsigmoid ] \n",
    "#kernels =['Linear', 'Polynomial', 'RBF', 'Sigmoid']\n",
    "fig, ax = plt.subplots(1, 4, figsize =(22, 6))\n",
    "fig.subplots_adjust(left=0.0625, right = 0.95, wspace = 0.12)\n",
    "\n",
    "def multipleEvaluationKplus(X,y ,  sklfx =True, yelcfx=False, axis =None):\n",
    "    if sklfx : \n",
    "        yelcfx=False \n",
    "    elif yelcfx: sklfx =False \n",
    "    for kk, (svm , kern) in enumerate(zip(SVMs, kernels )): \n",
    "        ypred = predictTestSet (svm, X)\n",
    "        acc_scores = accuracy_score(y, ypred)\n",
    "        print(f\"{kern} : accuracy -score = \", acc_scores)\n",
    "        if sklfx : \n",
    "            visualizeCfxFromSklearn(y, ypred, ax = axis[kk] )\n",
    "        if yelcfx:\n",
    "            visualizeCfxFromYellowbrick(svm, X, y)\n",
    "        \n",
    "multipleEvaluationKplus(X_test, y_test, axis =ax )"
   ]
  },
  {
   "cell_type": "code",
   "execution_count": 68,
   "metadata": {},
   "outputs": [
    {
     "name": "stderr",
     "output_type": "stream",
     "text": [
      "C:\\anaconda3\\envs\\svmenv\\lib\\site-packages\\yellowbrick\\classifier\\base.py:232: YellowbrickWarning: could not determine class_counts_ from previously fitted classifier\n",
      "  warnings.warn(\n"
     ]
    },
    {
     "data": {
      "image/png": "[encoded data removed]",
      "text/plain": [
       "<Figure size 432x432 with 1 Axes>"
      ]
     },
     "metadata": {},
     "output_type": "display_data"
    },
    {
     "name": "stderr",
     "output_type": "stream",
     "text": [
      "C:\\anaconda3\\envs\\svmenv\\lib\\site-packages\\yellowbrick\\classifier\\base.py:232: YellowbrickWarning: could not determine class_counts_ from previously fitted classifier\n",
      "  warnings.warn(\n"
     ]
    },
    {
     "data": {
      "image/png": "[encoded data removed]",
      "text/plain": [
       "<Figure size 432x432 with 1 Axes>"
      ]
     },
     "metadata": {},
     "output_type": "display_data"
    },
    {
     "name": "stderr",
     "output_type": "stream",
     "text": [
      "C:\\anaconda3\\envs\\svmenv\\lib\\site-packages\\yellowbrick\\classifier\\base.py:232: YellowbrickWarning: could not determine class_counts_ from previously fitted classifier\n",
      "  warnings.warn(\n"
     ]
    },
    {
     "data": {
      "image/png": "[encoded data removed]",
      "text/plain": [
       "<Figure size 432x432 with 1 Axes>"
      ]
     },
     "metadata": {},
     "output_type": "display_data"
    },
    {
     "name": "stderr",
     "output_type": "stream",
     "text": [
      "C:\\anaconda3\\envs\\svmenv\\lib\\site-packages\\yellowbrick\\classifier\\base.py:232: YellowbrickWarning: could not determine class_counts_ from previously fitted classifier\n",
      "  warnings.warn(\n"
     ]
    },
    {
     "data": {
      "image/png": "[encoded data removed]",
      "text/plain": [
       "<Figure size 432x432 with 1 Axes>"
      ]
     },
     "metadata": {},
     "output_type": "display_data"
    }
   ],
   "source": [
    "\n",
    "for kk, (svm , kern) in enumerate(zip(SVMs, kernels )): \n",
    "    ax[kk]= classPredictorError(svm, X_test, y_test)"
   ]
  },
  {
   "cell_type": "code",
   "execution_count": null,
   "metadata": {},
   "outputs": [],
   "source": []
  }
 ],
 "metadata": {
  "interpreter": {
   "hash": "7033fe02cb6fb9813ef209cb7492ca6a80aa15710d2f92ee46953e115ce44f01"
  },
  "kernelspec": {
   "display_name": "Python 3.8.12 64-bit ('deepLearning': conda)",
   "language": "python",
   "name": "python3"
  },
  "language_info": {
   "codemirror_mode": {
    "name": "ipython",
    "version": 3
   },
   "file_extension": ".py",
   "mimetype": "text/x-python",
   "name": "python",
   "nbconvert_exporter": "python",
   "pygments_lexer": "ipython3",
   "version": "3.10.2"
  },
  "orig_nbformat": 4
 },
 "nbformat": 4,
 "nbformat_minor": 2
}
